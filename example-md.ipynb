{
 "cells": [
  {
   "cell_type": "markdown",
   "id": "5ec06693",
   "metadata": {},
   "source": [
    "# Example WE Notebook for lpath"
   ]
  },
  {
   "cell_type": "markdown",
   "id": "16e05d9c",
   "metadata": {},
   "source": [
    "This notebook details steps towards running the whole lpath analysis with an MD simulation. Check our [Sphinx documentation](https://lpath.readthedocs.io) for more up-to-date information about each function.\n",
    "\n",
    "By Jeremy Leung\n",
    "Last updated: May 17th, 2023"
   ]
  },
  {
   "cell_type": "markdown",
   "source": [],
   "metadata": {
    "collapsed": false
   },
   "id": "634897a1c133006b"
  },
  {
   "cell_type": "code",
   "execution_count": null,
   "outputs": [],
   "source": [],
   "metadata": {
    "collapsed": false
   },
   "id": "ea56d538ade5d500"
  },
  {
   "cell_type": "markdown",
   "id": "5367e35d",
   "metadata": {},
   "source": [
    "## Common cells"
   ]
  },
  {
   "cell_type": "code",
   "execution_count": 1,
   "id": "382125e9",
   "metadata": {
    "ExecuteTime": {
     "end_time": "2023-08-29T16:43:18.607247Z",
     "start_time": "2023-08-29T16:43:17.914179Z"
    }
   },
   "outputs": [],
   "source": [
    "# Imports for all steps\n",
    "import argparse\n",
    "import numpy\n",
    "from lpath import discretize, extract, match"
   ]
  },
  {
   "cell_type": "code",
   "execution_count": null,
   "id": "843b6dab",
   "metadata": {},
   "outputs": [],
   "source": []
  },
  {
   "cell_type": "markdown",
   "id": "97319650",
   "metadata": {},
   "source": [
    "## Discretize"
   ]
  },
  {
   "cell_type": "code",
   "execution_count": 2,
   "id": "ebd15f19",
   "metadata": {
    "ExecuteTime": {
     "end_time": "2023-08-29T16:43:18.620744Z",
     "start_time": "2023-08-29T16:43:18.609390Z"
    }
   },
   "outputs": [],
   "source": [
    "# Define function to assign states. In this example,\n",
    "# input_array is a two column dataset: one for Phi, other for Phi.\n",
    "def assign_dih(input_array):\n",
    "    \"\"\"\n",
    "    This is an example function for mapping a list of features to state IDs. This should be subclassed.\n",
    "\n",
    "    Parameters\n",
    "    ----------\n",
    "    input_array : numpy.ndarray\n",
    "        An array generated from load_file.\n",
    "\n",
    "    Returns\n",
    "    -------\n",
    "    state_list : list\n",
    "        A list containing\n",
    "    \"\"\"\n",
    "    state_list = []\n",
    "    for val in input_array:\n",
    "        if val[0] >= -180 and val[0] <= -45 and val[1] >= -55 and val[1] <= 30:  # Phi/Psi for Alpha Helix\n",
    "            state_list.append(0)\n",
    "        elif val[0] >= 165 and val[0] <= 180 and val[1] >= -55 and val[1] <= 30:\n",
    "            state_list.append(0)\n",
    "        elif val[0] >= -170 and val[0] <= -55 and val[1] >= 40 and val[1] <= 100:  # Phi/Psi for C7eq\n",
    "            state_list.append(1)\n",
    "        elif val[0] >= 25 and val[0] <= 90 and val[1] >= -55 and val[1] <= 0:  # Phi/Psi for C7ax\n",
    "            state_list.append(2)\n",
    "        else:\n",
    "            state_list.append(-1)\n",
    "\n",
    "    return state_list"
   ]
  },
  {
   "cell_type": "code",
   "execution_count": 3,
   "id": "1d2e2f15",
   "metadata": {
    "ExecuteTime": {
     "end_time": "2023-08-29T16:43:19.546761Z",
     "start_time": "2023-08-29T16:43:19.538414Z"
    }
   },
   "outputs": [],
   "source": [
    "# Arguments for `discretize` step.\n",
    "discretize_args = argparse.Namespace(\n",
    "    we=False,  # Doing standard simulations\n",
    "    stride=1,  # Loading at stride=1. Increase to add more frames.\n",
    "    stats=True,  # Output results statistics\n",
    "    debug=False,  # Debug mode\n",
    "    out_dir='succ_traj',  # Name of directory to output the trajectories\n",
    "    input_name='dihedral.npy',  # Input data for state assignment. Something like 'dihedral.npy'.\n",
    "    extract_input='states.npy',  # Output file name for the state assignment.\n",
    "    assign_func='assign_dih',  # Assign function that dictates how to assign states\n",
    ")"
   ]
  },
  {
   "cell_type": "code",
   "execution_count": 4,
   "id": "ca85f9af",
   "metadata": {
    "ExecuteTime": {
     "end_time": "2023-08-29T16:43:20.602036Z",
     "start_time": "2023-08-29T16:43:20.167347Z"
    }
   },
   "outputs": [
    {
     "ename": "FileNotFoundError",
     "evalue": "dihedral.npy not found.",
     "output_type": "error",
     "traceback": [
      "\u001B[0;31m---------------------------------------------------------------------------\u001B[0m",
      "\u001B[0;31mValueError\u001B[0m                                Traceback (most recent call last)",
      "File \u001B[0;32m~/Documents/Important/Pitt/git/lpath/lpath/io.py:66\u001B[0m, in \u001B[0;36mexpanded_load\u001B[0;34m(input_str, stride)\u001B[0m\n\u001B[1;32m     65\u001B[0m \u001B[38;5;28;01mtry\u001B[39;00m:\n\u001B[0;32m---> 66\u001B[0m     expanded_files \u001B[38;5;241m=\u001B[39m \u001B[43mliteral_eval\u001B[49m\u001B[43m(\u001B[49m\u001B[43minput_str\u001B[49m\u001B[43m)\u001B[49m\n\u001B[1;32m     67\u001B[0m     \u001B[38;5;28;01mif\u001B[39;00m \u001B[38;5;129;01mnot\u001B[39;00m \u001B[38;5;28misinstance\u001B[39m(expanded_files, \u001B[38;5;28mlist\u001B[39m):\n",
      "File \u001B[0;32m~/miniconda3/envs/westpa-lpath/lib/python3.10/ast.py:110\u001B[0m, in \u001B[0;36mliteral_eval\u001B[0;34m(node_or_string)\u001B[0m\n\u001B[1;32m    109\u001B[0m     \u001B[38;5;28;01mreturn\u001B[39;00m _convert_signed_num(node)\n\u001B[0;32m--> 110\u001B[0m \u001B[38;5;28;01mreturn\u001B[39;00m \u001B[43m_convert\u001B[49m\u001B[43m(\u001B[49m\u001B[43mnode_or_string\u001B[49m\u001B[43m)\u001B[49m\n",
      "File \u001B[0;32m~/miniconda3/envs/westpa-lpath/lib/python3.10/ast.py:109\u001B[0m, in \u001B[0;36mliteral_eval.<locals>._convert\u001B[0;34m(node)\u001B[0m\n\u001B[1;32m    108\u001B[0m             \u001B[38;5;28;01mreturn\u001B[39;00m left \u001B[38;5;241m-\u001B[39m right\n\u001B[0;32m--> 109\u001B[0m \u001B[38;5;28;01mreturn\u001B[39;00m \u001B[43m_convert_signed_num\u001B[49m\u001B[43m(\u001B[49m\u001B[43mnode\u001B[49m\u001B[43m)\u001B[49m\n",
      "File \u001B[0;32m~/miniconda3/envs/westpa-lpath/lib/python3.10/ast.py:83\u001B[0m, in \u001B[0;36mliteral_eval.<locals>._convert_signed_num\u001B[0;34m(node)\u001B[0m\n\u001B[1;32m     82\u001B[0m         \u001B[38;5;28;01mreturn\u001B[39;00m \u001B[38;5;241m-\u001B[39m operand\n\u001B[0;32m---> 83\u001B[0m \u001B[38;5;28;01mreturn\u001B[39;00m \u001B[43m_convert_num\u001B[49m\u001B[43m(\u001B[49m\u001B[43mnode\u001B[49m\u001B[43m)\u001B[49m\n",
      "File \u001B[0;32m~/miniconda3/envs/westpa-lpath/lib/python3.10/ast.py:74\u001B[0m, in \u001B[0;36mliteral_eval.<locals>._convert_num\u001B[0;34m(node)\u001B[0m\n\u001B[1;32m     73\u001B[0m \u001B[38;5;28;01mif\u001B[39;00m \u001B[38;5;129;01mnot\u001B[39;00m \u001B[38;5;28misinstance\u001B[39m(node, Constant) \u001B[38;5;129;01mor\u001B[39;00m \u001B[38;5;28mtype\u001B[39m(node\u001B[38;5;241m.\u001B[39mvalue) \u001B[38;5;129;01mnot\u001B[39;00m \u001B[38;5;129;01min\u001B[39;00m (\u001B[38;5;28mint\u001B[39m, \u001B[38;5;28mfloat\u001B[39m, \u001B[38;5;28mcomplex\u001B[39m):\n\u001B[0;32m---> 74\u001B[0m     \u001B[43m_raise_malformed_node\u001B[49m\u001B[43m(\u001B[49m\u001B[43mnode\u001B[49m\u001B[43m)\u001B[49m\n\u001B[1;32m     75\u001B[0m \u001B[38;5;28;01mreturn\u001B[39;00m node\u001B[38;5;241m.\u001B[39mvalue\n",
      "File \u001B[0;32m~/miniconda3/envs/westpa-lpath/lib/python3.10/ast.py:71\u001B[0m, in \u001B[0;36mliteral_eval.<locals>._raise_malformed_node\u001B[0;34m(node)\u001B[0m\n\u001B[1;32m     70\u001B[0m     msg \u001B[38;5;241m+\u001B[39m\u001B[38;5;241m=\u001B[39m \u001B[38;5;124mf\u001B[39m\u001B[38;5;124m'\u001B[39m\u001B[38;5;124m on line \u001B[39m\u001B[38;5;132;01m{\u001B[39;00mlno\u001B[38;5;132;01m}\u001B[39;00m\u001B[38;5;124m'\u001B[39m\n\u001B[0;32m---> 71\u001B[0m \u001B[38;5;28;01mraise\u001B[39;00m \u001B[38;5;167;01mValueError\u001B[39;00m(msg \u001B[38;5;241m+\u001B[39m \u001B[38;5;124mf\u001B[39m\u001B[38;5;124m'\u001B[39m\u001B[38;5;124m: \u001B[39m\u001B[38;5;132;01m{\u001B[39;00mnode\u001B[38;5;132;01m!r}\u001B[39;00m\u001B[38;5;124m'\u001B[39m)\n",
      "\u001B[0;31mValueError\u001B[0m: malformed node or string on line 1: <ast.Attribute object at 0x160faf730>",
      "\nDuring handling of the above exception, another exception occurred:\n",
      "\u001B[0;31mFileNotFoundError\u001B[0m                         Traceback (most recent call last)",
      "Cell \u001B[0;32mIn[4], line 2\u001B[0m\n\u001B[1;32m      1\u001B[0m \u001B[38;5;66;03m# Run discretize with the parameters defined in the cell above.\u001B[39;00m\n\u001B[0;32m----> 2\u001B[0m \u001B[43mdiscretize\u001B[49m\u001B[38;5;241;43m.\u001B[39;49m\u001B[43mmain\u001B[49m\u001B[43m(\u001B[49m\u001B[43mdiscretize_args\u001B[49m\u001B[43m)\u001B[49m\n",
      "File \u001B[0;32m~/Documents/Important/Pitt/git/lpath/lpath/discretize.py:95\u001B[0m, in \u001B[0;36mmain\u001B[0;34m(arguments)\u001B[0m\n\u001B[1;32m     93\u001B[0m             tool\u001B[38;5;241m.\u001B[39mwork_manager\u001B[38;5;241m.\u001B[39mrun()\n\u001B[1;32m     94\u001B[0m \u001B[38;5;28;01melse\u001B[39;00m:\n\u001B[0;32m---> 95\u001B[0m     input_array \u001B[38;5;241m=\u001B[39m \u001B[43mexpanded_load\u001B[49m\u001B[43m(\u001B[49m\u001B[43marguments\u001B[49m\u001B[38;5;241;43m.\u001B[39;49m\u001B[43minput_name\u001B[49m\u001B[43m,\u001B[49m\u001B[43m \u001B[49m\u001B[43marguments\u001B[49m\u001B[38;5;241;43m.\u001B[39;49m\u001B[43mstride\u001B[49m\u001B[43m)\u001B[49m\n\u001B[1;32m     97\u001B[0m     \u001B[38;5;66;03m# Replacing assign_func with what's given\u001B[39;00m\n\u001B[1;32m     98\u001B[0m     \u001B[38;5;28;01mif\u001B[39;00m arguments\u001B[38;5;241m.\u001B[39massign_func \u001B[38;5;241m!=\u001B[39m \u001B[38;5;124m'\u001B[39m\u001B[38;5;124mdefault_assign\u001B[39m\u001B[38;5;124m'\u001B[39m:\n",
      "File \u001B[0;32m~/Documents/Important/Pitt/git/lpath/lpath/io.py:70\u001B[0m, in \u001B[0;36mexpanded_load\u001B[0;34m(input_str, stride)\u001B[0m\n\u001B[1;32m     68\u001B[0m         \u001B[38;5;28;01mraise\u001B[39;00m \u001B[38;5;167;01mValueError\u001B[39;00m\n\u001B[1;32m     69\u001B[0m \u001B[38;5;28;01mexcept\u001B[39;00m \u001B[38;5;167;01mValueError\u001B[39;00m:\n\u001B[0;32m---> 70\u001B[0m     final_object \u001B[38;5;241m=\u001B[39m \u001B[43mload_file\u001B[49m\u001B[43m(\u001B[49m\u001B[43minput_str\u001B[49m\u001B[43m,\u001B[49m\u001B[43m \u001B[49m\u001B[43mstride\u001B[49m\u001B[43m)\u001B[49m\n\u001B[1;32m     71\u001B[0m     \u001B[38;5;28;01mreturn\u001B[39;00m final_object\n\u001B[1;32m     73\u001B[0m \u001B[38;5;66;03m# Loop through all strings in expanded_files since it's a list for sure.\u001B[39;00m\n",
      "File \u001B[0;32m~/Documents/Important/Pitt/git/lpath/lpath/io.py:34\u001B[0m, in \u001B[0;36mload_file\u001B[0;34m(input_file, stride)\u001B[0m\n\u001B[1;32m     15\u001B[0m \u001B[38;5;250m\u001B[39m\u001B[38;5;124;03m\"\"\"\u001B[39;00m\n\u001B[1;32m     16\u001B[0m \u001B[38;5;124;03mThe actual loading function.\u001B[39;00m\n\u001B[1;32m     17\u001B[0m \n\u001B[0;32m   (...)\u001B[0m\n\u001B[1;32m     30\u001B[0m \n\u001B[1;32m     31\u001B[0m \u001B[38;5;124;03m\"\"\"\u001B[39;00m\n\u001B[1;32m     32\u001B[0m \u001B[38;5;28;01mtry\u001B[39;00m:\n\u001B[1;32m     33\u001B[0m     \u001B[38;5;66;03m# Treat it as text first.\u001B[39;00m\n\u001B[0;32m---> 34\u001B[0m     data \u001B[38;5;241m=\u001B[39m \u001B[43mnumpy\u001B[49m\u001B[38;5;241;43m.\u001B[39;49m\u001B[43mloadtxt\u001B[49m\u001B[43m(\u001B[49m\u001B[43minput_file\u001B[49m\u001B[43m)\u001B[49m[::stride]\n\u001B[1;32m     35\u001B[0m     \u001B[38;5;66;03m# data = numpy.loadtxt(input_file, usecols=(1,2), skiprows=1)\u001B[39;00m\n\u001B[1;32m     36\u001B[0m \u001B[38;5;28;01mexcept\u001B[39;00m \u001B[38;5;167;01mUnicodeDecodeError\u001B[39;00m:\n\u001B[1;32m     37\u001B[0m     \u001B[38;5;66;03m# Assumes it's a binary file otherwise...\u001B[39;00m\n",
      "File \u001B[0;32m~/miniconda3/envs/westpa-lpath/lib/python3.10/site-packages/numpy/lib/npyio.py:1356\u001B[0m, in \u001B[0;36mloadtxt\u001B[0;34m(fname, dtype, comments, delimiter, converters, skiprows, usecols, unpack, ndmin, encoding, max_rows, quotechar, like)\u001B[0m\n\u001B[1;32m   1353\u001B[0m \u001B[38;5;28;01mif\u001B[39;00m \u001B[38;5;28misinstance\u001B[39m(delimiter, \u001B[38;5;28mbytes\u001B[39m):\n\u001B[1;32m   1354\u001B[0m     delimiter \u001B[38;5;241m=\u001B[39m delimiter\u001B[38;5;241m.\u001B[39mdecode(\u001B[38;5;124m'\u001B[39m\u001B[38;5;124mlatin1\u001B[39m\u001B[38;5;124m'\u001B[39m)\n\u001B[0;32m-> 1356\u001B[0m arr \u001B[38;5;241m=\u001B[39m \u001B[43m_read\u001B[49m\u001B[43m(\u001B[49m\u001B[43mfname\u001B[49m\u001B[43m,\u001B[49m\u001B[43m \u001B[49m\u001B[43mdtype\u001B[49m\u001B[38;5;241;43m=\u001B[39;49m\u001B[43mdtype\u001B[49m\u001B[43m,\u001B[49m\u001B[43m \u001B[49m\u001B[43mcomment\u001B[49m\u001B[38;5;241;43m=\u001B[39;49m\u001B[43mcomment\u001B[49m\u001B[43m,\u001B[49m\u001B[43m \u001B[49m\u001B[43mdelimiter\u001B[49m\u001B[38;5;241;43m=\u001B[39;49m\u001B[43mdelimiter\u001B[49m\u001B[43m,\u001B[49m\n\u001B[1;32m   1357\u001B[0m \u001B[43m            \u001B[49m\u001B[43mconverters\u001B[49m\u001B[38;5;241;43m=\u001B[39;49m\u001B[43mconverters\u001B[49m\u001B[43m,\u001B[49m\u001B[43m \u001B[49m\u001B[43mskiplines\u001B[49m\u001B[38;5;241;43m=\u001B[39;49m\u001B[43mskiprows\u001B[49m\u001B[43m,\u001B[49m\u001B[43m \u001B[49m\u001B[43musecols\u001B[49m\u001B[38;5;241;43m=\u001B[39;49m\u001B[43musecols\u001B[49m\u001B[43m,\u001B[49m\n\u001B[1;32m   1358\u001B[0m \u001B[43m            \u001B[49m\u001B[43munpack\u001B[49m\u001B[38;5;241;43m=\u001B[39;49m\u001B[43munpack\u001B[49m\u001B[43m,\u001B[49m\u001B[43m \u001B[49m\u001B[43mndmin\u001B[49m\u001B[38;5;241;43m=\u001B[39;49m\u001B[43mndmin\u001B[49m\u001B[43m,\u001B[49m\u001B[43m \u001B[49m\u001B[43mencoding\u001B[49m\u001B[38;5;241;43m=\u001B[39;49m\u001B[43mencoding\u001B[49m\u001B[43m,\u001B[49m\n\u001B[1;32m   1359\u001B[0m \u001B[43m            \u001B[49m\u001B[43mmax_rows\u001B[49m\u001B[38;5;241;43m=\u001B[39;49m\u001B[43mmax_rows\u001B[49m\u001B[43m,\u001B[49m\u001B[43m \u001B[49m\u001B[43mquote\u001B[49m\u001B[38;5;241;43m=\u001B[39;49m\u001B[43mquotechar\u001B[49m\u001B[43m)\u001B[49m\n\u001B[1;32m   1361\u001B[0m \u001B[38;5;28;01mreturn\u001B[39;00m arr\n",
      "File \u001B[0;32m~/miniconda3/envs/westpa-lpath/lib/python3.10/site-packages/numpy/lib/npyio.py:975\u001B[0m, in \u001B[0;36m_read\u001B[0;34m(fname, delimiter, comment, quote, imaginary_unit, usecols, skiplines, max_rows, converters, ndmin, unpack, dtype, encoding)\u001B[0m\n\u001B[1;32m    973\u001B[0m     fname \u001B[38;5;241m=\u001B[39m os\u001B[38;5;241m.\u001B[39mfspath(fname)\n\u001B[1;32m    974\u001B[0m \u001B[38;5;28;01mif\u001B[39;00m \u001B[38;5;28misinstance\u001B[39m(fname, \u001B[38;5;28mstr\u001B[39m):\n\u001B[0;32m--> 975\u001B[0m     fh \u001B[38;5;241m=\u001B[39m \u001B[43mnp\u001B[49m\u001B[38;5;241;43m.\u001B[39;49m\u001B[43mlib\u001B[49m\u001B[38;5;241;43m.\u001B[39;49m\u001B[43m_datasource\u001B[49m\u001B[38;5;241;43m.\u001B[39;49m\u001B[43mopen\u001B[49m\u001B[43m(\u001B[49m\u001B[43mfname\u001B[49m\u001B[43m,\u001B[49m\u001B[43m \u001B[49m\u001B[38;5;124;43m'\u001B[39;49m\u001B[38;5;124;43mrt\u001B[39;49m\u001B[38;5;124;43m'\u001B[39;49m\u001B[43m,\u001B[49m\u001B[43m \u001B[49m\u001B[43mencoding\u001B[49m\u001B[38;5;241;43m=\u001B[39;49m\u001B[43mencoding\u001B[49m\u001B[43m)\u001B[49m\n\u001B[1;32m    976\u001B[0m     \u001B[38;5;28;01mif\u001B[39;00m encoding \u001B[38;5;129;01mis\u001B[39;00m \u001B[38;5;28;01mNone\u001B[39;00m:\n\u001B[1;32m    977\u001B[0m         encoding \u001B[38;5;241m=\u001B[39m \u001B[38;5;28mgetattr\u001B[39m(fh, \u001B[38;5;124m'\u001B[39m\u001B[38;5;124mencoding\u001B[39m\u001B[38;5;124m'\u001B[39m, \u001B[38;5;124m'\u001B[39m\u001B[38;5;124mlatin1\u001B[39m\u001B[38;5;124m'\u001B[39m)\n",
      "File \u001B[0;32m~/miniconda3/envs/westpa-lpath/lib/python3.10/site-packages/numpy/lib/_datasource.py:193\u001B[0m, in \u001B[0;36mopen\u001B[0;34m(path, mode, destpath, encoding, newline)\u001B[0m\n\u001B[1;32m    156\u001B[0m \u001B[38;5;250m\u001B[39m\u001B[38;5;124;03m\"\"\"\u001B[39;00m\n\u001B[1;32m    157\u001B[0m \u001B[38;5;124;03mOpen `path` with `mode` and return the file object.\u001B[39;00m\n\u001B[1;32m    158\u001B[0m \n\u001B[0;32m   (...)\u001B[0m\n\u001B[1;32m    189\u001B[0m \n\u001B[1;32m    190\u001B[0m \u001B[38;5;124;03m\"\"\"\u001B[39;00m\n\u001B[1;32m    192\u001B[0m ds \u001B[38;5;241m=\u001B[39m DataSource(destpath)\n\u001B[0;32m--> 193\u001B[0m \u001B[38;5;28;01mreturn\u001B[39;00m \u001B[43mds\u001B[49m\u001B[38;5;241;43m.\u001B[39;49m\u001B[43mopen\u001B[49m\u001B[43m(\u001B[49m\u001B[43mpath\u001B[49m\u001B[43m,\u001B[49m\u001B[43m \u001B[49m\u001B[43mmode\u001B[49m\u001B[43m,\u001B[49m\u001B[43m \u001B[49m\u001B[43mencoding\u001B[49m\u001B[38;5;241;43m=\u001B[39;49m\u001B[43mencoding\u001B[49m\u001B[43m,\u001B[49m\u001B[43m \u001B[49m\u001B[43mnewline\u001B[49m\u001B[38;5;241;43m=\u001B[39;49m\u001B[43mnewline\u001B[49m\u001B[43m)\u001B[49m\n",
      "File \u001B[0;32m~/miniconda3/envs/westpa-lpath/lib/python3.10/site-packages/numpy/lib/_datasource.py:533\u001B[0m, in \u001B[0;36mDataSource.open\u001B[0;34m(self, path, mode, encoding, newline)\u001B[0m\n\u001B[1;32m    530\u001B[0m     \u001B[38;5;28;01mreturn\u001B[39;00m _file_openers[ext](found, mode\u001B[38;5;241m=\u001B[39mmode,\n\u001B[1;32m    531\u001B[0m                               encoding\u001B[38;5;241m=\u001B[39mencoding, newline\u001B[38;5;241m=\u001B[39mnewline)\n\u001B[1;32m    532\u001B[0m \u001B[38;5;28;01melse\u001B[39;00m:\n\u001B[0;32m--> 533\u001B[0m     \u001B[38;5;28;01mraise\u001B[39;00m \u001B[38;5;167;01mFileNotFoundError\u001B[39;00m(\u001B[38;5;124mf\u001B[39m\u001B[38;5;124m\"\u001B[39m\u001B[38;5;132;01m{\u001B[39;00mpath\u001B[38;5;132;01m}\u001B[39;00m\u001B[38;5;124m not found.\u001B[39m\u001B[38;5;124m\"\u001B[39m)\n",
      "\u001B[0;31mFileNotFoundError\u001B[0m: dihedral.npy not found."
     ]
    }
   ],
   "source": [
    "# Run discretize with the parameters defined in the cell above.\n",
    "discretize.main(discretize_args)"
   ]
  },
  {
   "cell_type": "code",
   "execution_count": null,
   "id": "69adaa72",
   "metadata": {},
   "outputs": [],
   "source": []
  },
  {
   "cell_type": "markdown",
   "id": "e264d50d",
   "metadata": {},
   "source": [
    "## Extract"
   ]
  },
  {
   "cell_type": "code",
   "execution_count": 17,
   "id": "d3f8dce6",
   "metadata": {
    "ExecuteTime": {
     "end_time": "2023-08-29T16:48:50.539633Z",
     "start_time": "2023-08-29T16:48:50.536234Z"
    }
   },
   "outputs": [],
   "source": [
    "# Arguments for the `extract` step.\n",
    "extract_args = argparse.Namespace(\n",
    "    we=False,  # Doing standard simulations\n",
    "    stride=1,  # Loading at stride=1. Increase to add more frames.\n",
    "    stats=True,  # Output results statistics\n",
    "    debug=False,  # Debug mode\n",
    "    out_dir='succ_traj',  # Name of directory to output the trajectories\n",
    "    extract_input='states.npy',  # Name of input assign.h5 file\n",
    "    extract_output='succ_traj/output.pickle',  # Name of input assign.h5 file\n",
    "\n",
    "    source_state_num=0,  # Index of the source state as defined in assign_name.\n",
    "    target_state_num=1,  # Index of the target state as defined in assign_name.\n",
    "    pcoord=False,  # Option to output extra datasets\n",
    "    featurization_name='states.npy',  # Specify a file name if pcoord=True \n",
    "    feature_stride=1,  # Option to stride `pcoord`\n",
    "    exclude_short=0,  # Exclude trajectories shorter than provided value during matching. 0 excludes none.\n",
    ")"
   ]
  },
  {
   "cell_type": "code",
   "execution_count": 18,
   "id": "0497375f",
   "metadata": {
    "ExecuteTime": {
     "end_time": "2023-08-29T16:48:50.963883Z",
     "start_time": "2023-08-29T16:48:50.898265Z"
    }
   },
   "outputs": [
    {
     "ename": "FileNotFoundError",
     "evalue": "states.npy not found.",
     "output_type": "error",
     "traceback": [
      "\u001B[0;31m---------------------------------------------------------------------------\u001B[0m",
      "\u001B[0;31mFileNotFoundError\u001B[0m                         Traceback (most recent call last)",
      "Cell \u001B[0;32mIn[18], line 2\u001B[0m\n\u001B[1;32m      1\u001B[0m \u001B[38;5;66;03m# Run match with the parameters defined in the cell above.\u001B[39;00m\n\u001B[0;32m----> 2\u001B[0m \u001B[43mextract\u001B[49m\u001B[38;5;241;43m.\u001B[39;49m\u001B[43mmain\u001B[49m\u001B[43m(\u001B[49m\u001B[43mextract_args\u001B[49m\u001B[43m)\u001B[49m\n",
      "File \u001B[0;32m~/Documents/Important/Pitt/git/lpath/lpath/extract.py:1057\u001B[0m, in \u001B[0;36mmain\u001B[0;34m(arguments)\u001B[0m\n\u001B[1;32m   1055\u001B[0m \u001B[38;5;28;01melse\u001B[39;00m:\n\u001B[1;32m   1056\u001B[0m     log\u001B[38;5;241m.\u001B[39mdebug(\u001B[38;5;124m'\u001B[39m\u001B[38;5;124mRunning Extract Standard mode.\u001B[39m\u001B[38;5;124m'\u001B[39m)\n\u001B[0;32m-> 1057\u001B[0m     \u001B[43mstandard\u001B[49m\u001B[43m(\u001B[49m\u001B[43marguments\u001B[49m\u001B[43m)\u001B[49m\n",
      "File \u001B[0;32m~/Documents/Important/Pitt/git/lpath/lpath/extract.py:327\u001B[0m, in \u001B[0;36mstandard\u001B[0;34m(arguments)\u001B[0m\n\u001B[1;32m    318\u001B[0m \u001B[38;5;28;01mdef\u001B[39;00m \u001B[38;5;21mstandard\u001B[39m(arguments):\n\u001B[1;32m    319\u001B[0m \u001B[38;5;250m    \u001B[39m\u001B[38;5;124;03m\"\"\"\u001B[39;00m\n\u001B[1;32m    320\u001B[0m \u001B[38;5;124;03m    Main function that executes the whole standard ``extract`` procedure.\u001B[39;00m\n\u001B[1;32m    321\u001B[0m \u001B[38;5;124;03m    Parameters\u001B[39;00m\n\u001B[0;32m   (...)\u001B[0m\n\u001B[1;32m    325\u001B[0m \n\u001B[1;32m    326\u001B[0m \u001B[38;5;124;03m    \"\"\"\u001B[39;00m\n\u001B[0;32m--> 327\u001B[0m     input_array \u001B[38;5;241m=\u001B[39m \u001B[43mload_file\u001B[49m\u001B[43m(\u001B[49m\u001B[43marguments\u001B[49m\u001B[38;5;241;43m.\u001B[39;49m\u001B[43mextract_input\u001B[49m\u001B[43m,\u001B[49m\u001B[43m \u001B[49m\u001B[43marguments\u001B[49m\u001B[38;5;241;43m.\u001B[39;49m\u001B[43mstride\u001B[49m\u001B[43m)\u001B[49m\n\u001B[1;32m    328\u001B[0m     n_states \u001B[38;5;241m=\u001B[39m \u001B[38;5;28mlen\u001B[39m(input_array) \u001B[38;5;241m-\u001B[39m \u001B[38;5;241m1\u001B[39m\n\u001B[1;32m    330\u001B[0m     \u001B[38;5;28;01mif\u001B[39;00m arguments\u001B[38;5;241m.\u001B[39mpcoord \u001B[38;5;129;01mis\u001B[39;00m \u001B[38;5;28;01mTrue\u001B[39;00m:\n",
      "File \u001B[0;32m~/Documents/Important/Pitt/git/lpath/lpath/io.py:34\u001B[0m, in \u001B[0;36mload_file\u001B[0;34m(input_file, stride)\u001B[0m\n\u001B[1;32m     15\u001B[0m \u001B[38;5;250m\u001B[39m\u001B[38;5;124;03m\"\"\"\u001B[39;00m\n\u001B[1;32m     16\u001B[0m \u001B[38;5;124;03mThe actual loading function.\u001B[39;00m\n\u001B[1;32m     17\u001B[0m \n\u001B[0;32m   (...)\u001B[0m\n\u001B[1;32m     30\u001B[0m \n\u001B[1;32m     31\u001B[0m \u001B[38;5;124;03m\"\"\"\u001B[39;00m\n\u001B[1;32m     32\u001B[0m \u001B[38;5;28;01mtry\u001B[39;00m:\n\u001B[1;32m     33\u001B[0m     \u001B[38;5;66;03m# Treat it as text first.\u001B[39;00m\n\u001B[0;32m---> 34\u001B[0m     data \u001B[38;5;241m=\u001B[39m \u001B[43mnumpy\u001B[49m\u001B[38;5;241;43m.\u001B[39;49m\u001B[43mloadtxt\u001B[49m\u001B[43m(\u001B[49m\u001B[43minput_file\u001B[49m\u001B[43m)\u001B[49m[::stride]\n\u001B[1;32m     35\u001B[0m     \u001B[38;5;66;03m# data = numpy.loadtxt(input_file, usecols=(1,2), skiprows=1)\u001B[39;00m\n\u001B[1;32m     36\u001B[0m \u001B[38;5;28;01mexcept\u001B[39;00m \u001B[38;5;167;01mUnicodeDecodeError\u001B[39;00m:\n\u001B[1;32m     37\u001B[0m     \u001B[38;5;66;03m# Assumes it's a binary file otherwise...\u001B[39;00m\n",
      "File \u001B[0;32m~/miniconda3/envs/westpa-lpath/lib/python3.10/site-packages/numpy/lib/npyio.py:1356\u001B[0m, in \u001B[0;36mloadtxt\u001B[0;34m(fname, dtype, comments, delimiter, converters, skiprows, usecols, unpack, ndmin, encoding, max_rows, quotechar, like)\u001B[0m\n\u001B[1;32m   1353\u001B[0m \u001B[38;5;28;01mif\u001B[39;00m \u001B[38;5;28misinstance\u001B[39m(delimiter, \u001B[38;5;28mbytes\u001B[39m):\n\u001B[1;32m   1354\u001B[0m     delimiter \u001B[38;5;241m=\u001B[39m delimiter\u001B[38;5;241m.\u001B[39mdecode(\u001B[38;5;124m'\u001B[39m\u001B[38;5;124mlatin1\u001B[39m\u001B[38;5;124m'\u001B[39m)\n\u001B[0;32m-> 1356\u001B[0m arr \u001B[38;5;241m=\u001B[39m \u001B[43m_read\u001B[49m\u001B[43m(\u001B[49m\u001B[43mfname\u001B[49m\u001B[43m,\u001B[49m\u001B[43m \u001B[49m\u001B[43mdtype\u001B[49m\u001B[38;5;241;43m=\u001B[39;49m\u001B[43mdtype\u001B[49m\u001B[43m,\u001B[49m\u001B[43m \u001B[49m\u001B[43mcomment\u001B[49m\u001B[38;5;241;43m=\u001B[39;49m\u001B[43mcomment\u001B[49m\u001B[43m,\u001B[49m\u001B[43m \u001B[49m\u001B[43mdelimiter\u001B[49m\u001B[38;5;241;43m=\u001B[39;49m\u001B[43mdelimiter\u001B[49m\u001B[43m,\u001B[49m\n\u001B[1;32m   1357\u001B[0m \u001B[43m            \u001B[49m\u001B[43mconverters\u001B[49m\u001B[38;5;241;43m=\u001B[39;49m\u001B[43mconverters\u001B[49m\u001B[43m,\u001B[49m\u001B[43m \u001B[49m\u001B[43mskiplines\u001B[49m\u001B[38;5;241;43m=\u001B[39;49m\u001B[43mskiprows\u001B[49m\u001B[43m,\u001B[49m\u001B[43m \u001B[49m\u001B[43musecols\u001B[49m\u001B[38;5;241;43m=\u001B[39;49m\u001B[43musecols\u001B[49m\u001B[43m,\u001B[49m\n\u001B[1;32m   1358\u001B[0m \u001B[43m            \u001B[49m\u001B[43munpack\u001B[49m\u001B[38;5;241;43m=\u001B[39;49m\u001B[43munpack\u001B[49m\u001B[43m,\u001B[49m\u001B[43m \u001B[49m\u001B[43mndmin\u001B[49m\u001B[38;5;241;43m=\u001B[39;49m\u001B[43mndmin\u001B[49m\u001B[43m,\u001B[49m\u001B[43m \u001B[49m\u001B[43mencoding\u001B[49m\u001B[38;5;241;43m=\u001B[39;49m\u001B[43mencoding\u001B[49m\u001B[43m,\u001B[49m\n\u001B[1;32m   1359\u001B[0m \u001B[43m            \u001B[49m\u001B[43mmax_rows\u001B[49m\u001B[38;5;241;43m=\u001B[39;49m\u001B[43mmax_rows\u001B[49m\u001B[43m,\u001B[49m\u001B[43m \u001B[49m\u001B[43mquote\u001B[49m\u001B[38;5;241;43m=\u001B[39;49m\u001B[43mquotechar\u001B[49m\u001B[43m)\u001B[49m\n\u001B[1;32m   1361\u001B[0m \u001B[38;5;28;01mreturn\u001B[39;00m arr\n",
      "File \u001B[0;32m~/miniconda3/envs/westpa-lpath/lib/python3.10/site-packages/numpy/lib/npyio.py:975\u001B[0m, in \u001B[0;36m_read\u001B[0;34m(fname, delimiter, comment, quote, imaginary_unit, usecols, skiplines, max_rows, converters, ndmin, unpack, dtype, encoding)\u001B[0m\n\u001B[1;32m    973\u001B[0m     fname \u001B[38;5;241m=\u001B[39m os\u001B[38;5;241m.\u001B[39mfspath(fname)\n\u001B[1;32m    974\u001B[0m \u001B[38;5;28;01mif\u001B[39;00m \u001B[38;5;28misinstance\u001B[39m(fname, \u001B[38;5;28mstr\u001B[39m):\n\u001B[0;32m--> 975\u001B[0m     fh \u001B[38;5;241m=\u001B[39m \u001B[43mnp\u001B[49m\u001B[38;5;241;43m.\u001B[39;49m\u001B[43mlib\u001B[49m\u001B[38;5;241;43m.\u001B[39;49m\u001B[43m_datasource\u001B[49m\u001B[38;5;241;43m.\u001B[39;49m\u001B[43mopen\u001B[49m\u001B[43m(\u001B[49m\u001B[43mfname\u001B[49m\u001B[43m,\u001B[49m\u001B[43m \u001B[49m\u001B[38;5;124;43m'\u001B[39;49m\u001B[38;5;124;43mrt\u001B[39;49m\u001B[38;5;124;43m'\u001B[39;49m\u001B[43m,\u001B[49m\u001B[43m \u001B[49m\u001B[43mencoding\u001B[49m\u001B[38;5;241;43m=\u001B[39;49m\u001B[43mencoding\u001B[49m\u001B[43m)\u001B[49m\n\u001B[1;32m    976\u001B[0m     \u001B[38;5;28;01mif\u001B[39;00m encoding \u001B[38;5;129;01mis\u001B[39;00m \u001B[38;5;28;01mNone\u001B[39;00m:\n\u001B[1;32m    977\u001B[0m         encoding \u001B[38;5;241m=\u001B[39m \u001B[38;5;28mgetattr\u001B[39m(fh, \u001B[38;5;124m'\u001B[39m\u001B[38;5;124mencoding\u001B[39m\u001B[38;5;124m'\u001B[39m, \u001B[38;5;124m'\u001B[39m\u001B[38;5;124mlatin1\u001B[39m\u001B[38;5;124m'\u001B[39m)\n",
      "File \u001B[0;32m~/miniconda3/envs/westpa-lpath/lib/python3.10/site-packages/numpy/lib/_datasource.py:193\u001B[0m, in \u001B[0;36mopen\u001B[0;34m(path, mode, destpath, encoding, newline)\u001B[0m\n\u001B[1;32m    156\u001B[0m \u001B[38;5;250m\u001B[39m\u001B[38;5;124;03m\"\"\"\u001B[39;00m\n\u001B[1;32m    157\u001B[0m \u001B[38;5;124;03mOpen `path` with `mode` and return the file object.\u001B[39;00m\n\u001B[1;32m    158\u001B[0m \n\u001B[0;32m   (...)\u001B[0m\n\u001B[1;32m    189\u001B[0m \n\u001B[1;32m    190\u001B[0m \u001B[38;5;124;03m\"\"\"\u001B[39;00m\n\u001B[1;32m    192\u001B[0m ds \u001B[38;5;241m=\u001B[39m DataSource(destpath)\n\u001B[0;32m--> 193\u001B[0m \u001B[38;5;28;01mreturn\u001B[39;00m \u001B[43mds\u001B[49m\u001B[38;5;241;43m.\u001B[39;49m\u001B[43mopen\u001B[49m\u001B[43m(\u001B[49m\u001B[43mpath\u001B[49m\u001B[43m,\u001B[49m\u001B[43m \u001B[49m\u001B[43mmode\u001B[49m\u001B[43m,\u001B[49m\u001B[43m \u001B[49m\u001B[43mencoding\u001B[49m\u001B[38;5;241;43m=\u001B[39;49m\u001B[43mencoding\u001B[49m\u001B[43m,\u001B[49m\u001B[43m \u001B[49m\u001B[43mnewline\u001B[49m\u001B[38;5;241;43m=\u001B[39;49m\u001B[43mnewline\u001B[49m\u001B[43m)\u001B[49m\n",
      "File \u001B[0;32m~/miniconda3/envs/westpa-lpath/lib/python3.10/site-packages/numpy/lib/_datasource.py:533\u001B[0m, in \u001B[0;36mDataSource.open\u001B[0;34m(self, path, mode, encoding, newline)\u001B[0m\n\u001B[1;32m    530\u001B[0m     \u001B[38;5;28;01mreturn\u001B[39;00m _file_openers[ext](found, mode\u001B[38;5;241m=\u001B[39mmode,\n\u001B[1;32m    531\u001B[0m                               encoding\u001B[38;5;241m=\u001B[39mencoding, newline\u001B[38;5;241m=\u001B[39mnewline)\n\u001B[1;32m    532\u001B[0m \u001B[38;5;28;01melse\u001B[39;00m:\n\u001B[0;32m--> 533\u001B[0m     \u001B[38;5;28;01mraise\u001B[39;00m \u001B[38;5;167;01mFileNotFoundError\u001B[39;00m(\u001B[38;5;124mf\u001B[39m\u001B[38;5;124m\"\u001B[39m\u001B[38;5;132;01m{\u001B[39;00mpath\u001B[38;5;132;01m}\u001B[39;00m\u001B[38;5;124m not found.\u001B[39m\u001B[38;5;124m\"\u001B[39m)\n",
      "\u001B[0;31mFileNotFoundError\u001B[0m: states.npy not found."
     ]
    }
   ],
   "source": [
    "# Run match with the parameters defined in the cell above.\n",
    "extract.main(extract_args)"
   ]
  },
  {
   "cell_type": "code",
   "execution_count": null,
   "id": "f291c641",
   "metadata": {},
   "outputs": [],
   "source": []
  },
  {
   "cell_type": "markdown",
   "id": "8aef8e77",
   "metadata": {},
   "source": [
    "## Pattern Match"
   ]
  },
  {
   "cell_type": "code",
   "execution_count": null,
   "outputs": [],
   "source": [
    "# Define function to assign states. In this example,\n",
    "# input_array is a two column dataset: one for Phi, other for Phi.\n",
    "def assign_dih(input_array):\n",
    "    \"\"\"\n",
    "    This is an example function for mapping a list of features to state IDs. This should be subclassed.\n",
    "\n",
    "    Parameters\n",
    "    ----------\n",
    "    input_array : numpy.ndarray\n",
    "        An array generated from load_file.\n",
    "\n",
    "    Returns\n",
    "    -------\n",
    "    state_list : list\n",
    "        A list containing\n",
    "    \"\"\"\n",
    "    state_list = []\n",
    "    for val in input_array:\n",
    "        if val[0] >= -180 and val[0] <= -45 and val[1] >= -55 and val[1] <= 30:  # Phi/Psi for Alpha Helix\n",
    "            state_list.append(0)\n",
    "        elif val[0] >= 165 and val[0] <= 180 and val[1] >= -55 and val[1] <= 30:\n",
    "            state_list.append(0)\n",
    "        elif val[0] >= -170 and val[0] <= -55 and val[1] >= 40 and val[1] <= 100:  # Phi/Psi for C7eq\n",
    "            state_list.append(1)\n",
    "        elif val[0] >= 25 and val[0] <= 90 and val[1] >= -55 and val[1] <= 0:  # Phi/Psi for C7ax\n",
    "            state_list.append(2)\n",
    "        else:\n",
    "            state_list.append(-1)\n",
    "\n",
    "    return state_list"
   ],
   "metadata": {
    "collapsed": false
   },
   "id": "24893b35f433f49e"
  },
  {
   "cell_type": "code",
   "execution_count": 10,
   "id": "beeae279",
   "metadata": {
    "ExecuteTime": {
     "end_time": "2023-08-29T16:44:21.543951Z",
     "start_time": "2023-08-29T16:44:21.536099Z"
    }
   },
   "outputs": [],
   "source": [
    "# Define function to group assigned states. In this example,\n",
    "# input_array is a two column dataset: one for Phi, other for Phi.\n",
    "def reassign_custom(data, pathways, dictionary, assign_file=None):\n",
    "    \"\"\"\n",
    "    Reclassify/assign frames into different states. This is highly\n",
    "    specific to the system. If w_assign's definition is suffcient,\n",
    "    you can proceed with what's made in the previous step\n",
    "    using `reassign_identity`.\n",
    "\n",
    "    In this example, the dictionary maps state idx to its corresponding `state_string`.\n",
    "    I suggest using alphabets as states.\n",
    "\n",
    "    Parameters\n",
    "    ----------\n",
    "    data : list\n",
    "        An array with the data necessary to reassign, as extracted from `output.pickle`.\n",
    "\n",
    "    pathways : numpy.ndarray\n",
    "        An empty array with shapes for iter_id/seg_id/state_id/pcoord_or_auxdata/weight.\n",
    "\n",
    "    dictionary : dict\n",
    "        An empty dictionary obj for mapping `state_id` with `state string`.\n",
    "\n",
    "    assign_file : str, default : None\n",
    "        A string pointing to the assign.h5 file. Needed as a parameter for all functions,\n",
    "        but is ignored if it's an MD trajectory.\n",
    "\n",
    "    Returns\n",
    "    -------\n",
    "    dictionary : dict\n",
    "        A dictionary mapping each state_id (float/int) with a `state string` (character).\n",
    "    \"\"\"\n",
    "    # Other example for grouping multiple states into one.\n",
    "    for idx, val in enumerate(data):\n",
    "        # The following shows how you can \"merge\" multiple states into\n",
    "        # a single one.\n",
    "        flipped_val = numpy.asarray(val)[::-1]\n",
    "        first_contact = numpy.where(flipped_val[:, 3] < 5)[0][0]\n",
    "        for idx2, val2 in enumerate(flipped_val):\n",
    "            # ortho is assigned to state 0\n",
    "            if val2[2] in [1, 3, 4, 6, 7, 9]:\n",
    "                val2[2] = 0\n",
    "            # para is assigned to state 1\n",
    "            elif val2[2] in [2, 5, 8]:\n",
    "                val2[2] = 1\n",
    "            # Unknown state is assigned 2\n",
    "            if idx2 < first_contact:\n",
    "                val2[2] = 2\n",
    "            pathways[idx, idx2] = val2\n",
    "\n",
    "    # Generating a dictionary mapping each state\n",
    "    dictionary = {0: 'A', 1: 'B', 2: '!'}\n",
    "\n",
    "    return dictionary"
   ]
  },
  {
   "cell_type": "code",
   "execution_count": 15,
   "id": "43ab5a1b",
   "metadata": {
    "ExecuteTime": {
     "end_time": "2023-08-29T16:44:43.253664Z",
     "start_time": "2023-08-29T16:44:43.246932Z"
    }
   },
   "outputs": [],
   "source": [
    "# Arguments for the `match` step.\n",
    "match_args = argparse.Namespace(\n",
    "    we=False,  # Doing standard simulations\n",
    "    stride=1,  # Loading at stride=1. Increase to add more frames.\n",
    "    out_dir='succ_traj',  # Output for the distance Matrix\n",
    "    extract_output='succ_traj/output.pickle',  # Input file name of the pickle from `extract.py`\n",
    "    output_pickle='succ_traj/pathways.pickle',  # Output file name of the new reassigned pathways from `lpath.match`\n",
    "    reassign_method='reassign_custom',  # Reassign method. Could be a module to be loaded.\n",
    "    match_metric='longest_common_subsequence',  # Use the longest common subsequence metric.\n",
    "    match_vanilla=False, # Whether to use the metric with a correction term\n",
    "    dmatrix_remake=True,  # Enable to remake the distance Matrix\n",
    "    dmatrix_save='succ_traj/distmat.npy',  # If dmatrix_remake is False, load this file instead.\n",
    "    dmatrix_parallel=-1,  # Number of jobs to submit for distance matrix calculation. Set to -1 to use everything.\n",
    "    dendrogram_threshold=0.5,  # Threshold for the Dendrogram\n",
    "    dendrogram_show=True,  # Show the Dendrogram using plt.show()\n",
    "    cl_output='succ_traj/cluster_labels.npy',  # Output path for cluster labels\n",
    "    clusters=None,  # Cluster index to output... otherwise None --> All\n",
    ")"
   ]
  },
  {
   "cell_type": "code",
   "execution_count": 16,
   "id": "94f148c2",
   "metadata": {
    "ExecuteTime": {
     "end_time": "2023-08-29T16:44:43.677878Z",
     "start_time": "2023-08-29T16:44:43.595832Z"
    }
   },
   "outputs": [
    {
     "ename": "FileNotFoundError",
     "evalue": "succ_traj/output.pickle not found.",
     "output_type": "error",
     "traceback": [
      "\u001B[0;31m---------------------------------------------------------------------------\u001B[0m",
      "\u001B[0;31mFileNotFoundError\u001B[0m                         Traceback (most recent call last)",
      "Cell \u001B[0;32mIn[16], line 2\u001B[0m\n\u001B[1;32m      1\u001B[0m \u001B[38;5;66;03m# Run discretize with the parameters defined in the cell above.\u001B[39;00m\n\u001B[0;32m----> 2\u001B[0m \u001B[38;5;28;43;01mmatch\u001B[39;49;00m\u001B[38;5;241;43m.\u001B[39;49m\u001B[43mmain\u001B[49m\u001B[43m(\u001B[49m\u001B[43mmatch_args\u001B[49m\u001B[43m)\u001B[49m\n",
      "File \u001B[0;32m~/Documents/Important/Pitt/git/lpath/lpath/match.py:1065\u001B[0m, in \u001B[0;36mmain\u001B[0;34m(arguments)\u001B[0m\n\u001B[1;32m   1062\u001B[0m metric \u001B[38;5;241m=\u001B[39m determine_metric(arguments\u001B[38;5;241m.\u001B[39mmatch_metric, arguments\u001B[38;5;241m.\u001B[39mmatch_vanilla)\n\u001B[1;32m   1064\u001B[0m \u001B[38;5;66;03m# Prepping the data + Calculating the distance matrix\u001B[39;00m\n\u001B[0;32m-> 1065\u001B[0m data, pathways \u001B[38;5;241m=\u001B[39m \u001B[43mload_data\u001B[49m\u001B[43m(\u001B[49m\u001B[43marguments\u001B[49m\u001B[38;5;241;43m.\u001B[39;49m\u001B[43mextract_output\u001B[49m\u001B[43m)\u001B[49m\n\u001B[1;32m   1067\u001B[0m dictionary \u001B[38;5;241m=\u001B[39m {}\n\u001B[1;32m   1068\u001B[0m \u001B[38;5;66;03m# Reassignment... (or not)\u001B[39;00m\n",
      "File \u001B[0;32m~/Documents/Important/Pitt/git/lpath/lpath/match.py:364\u001B[0m, in \u001B[0;36mload_data\u001B[0;34m(file_name)\u001B[0m\n\u001B[1;32m    346\u001B[0m \u001B[38;5;28;01mdef\u001B[39;00m \u001B[38;5;21mload_data\u001B[39m(file_name):\n\u001B[1;32m    347\u001B[0m \u001B[38;5;250m    \u001B[39m\u001B[38;5;124;03m\"\"\"\u001B[39;00m\n\u001B[1;32m    348\u001B[0m \u001B[38;5;124;03m    Load in the pickle data from ``extract``.\u001B[39;00m\n\u001B[1;32m    349\u001B[0m \n\u001B[0;32m   (...)\u001B[0m\n\u001B[1;32m    362\u001B[0m \n\u001B[1;32m    363\u001B[0m \u001B[38;5;124;03m    \"\"\"\u001B[39;00m\n\u001B[0;32m--> 364\u001B[0m     data \u001B[38;5;241m=\u001B[39m \u001B[43mload_file\u001B[49m\u001B[43m(\u001B[49m\u001B[43mfile_name\u001B[49m\u001B[43m,\u001B[49m\u001B[43m \u001B[49m\u001B[38;5;241;43m1\u001B[39;49m\u001B[43m)\u001B[49m\n\u001B[1;32m    366\u001B[0m     npathways \u001B[38;5;241m=\u001B[39m \u001B[38;5;28mlen\u001B[39m(data)\n\u001B[1;32m    367\u001B[0m     \u001B[38;5;28;01massert\u001B[39;00m npathways, \u001B[38;5;124m\"\u001B[39m\u001B[38;5;124mPickle object is empty. Are you sure there are transitions?\u001B[39m\u001B[38;5;124m\"\u001B[39m\n",
      "File \u001B[0;32m~/Documents/Important/Pitt/git/lpath/lpath/io.py:34\u001B[0m, in \u001B[0;36mload_file\u001B[0;34m(input_file, stride)\u001B[0m\n\u001B[1;32m     15\u001B[0m \u001B[38;5;250m\u001B[39m\u001B[38;5;124;03m\"\"\"\u001B[39;00m\n\u001B[1;32m     16\u001B[0m \u001B[38;5;124;03mThe actual loading function.\u001B[39;00m\n\u001B[1;32m     17\u001B[0m \n\u001B[0;32m   (...)\u001B[0m\n\u001B[1;32m     30\u001B[0m \n\u001B[1;32m     31\u001B[0m \u001B[38;5;124;03m\"\"\"\u001B[39;00m\n\u001B[1;32m     32\u001B[0m \u001B[38;5;28;01mtry\u001B[39;00m:\n\u001B[1;32m     33\u001B[0m     \u001B[38;5;66;03m# Treat it as text first.\u001B[39;00m\n\u001B[0;32m---> 34\u001B[0m     data \u001B[38;5;241m=\u001B[39m \u001B[43mnumpy\u001B[49m\u001B[38;5;241;43m.\u001B[39;49m\u001B[43mloadtxt\u001B[49m\u001B[43m(\u001B[49m\u001B[43minput_file\u001B[49m\u001B[43m)\u001B[49m[::stride]\n\u001B[1;32m     35\u001B[0m     \u001B[38;5;66;03m# data = numpy.loadtxt(input_file, usecols=(1,2), skiprows=1)\u001B[39;00m\n\u001B[1;32m     36\u001B[0m \u001B[38;5;28;01mexcept\u001B[39;00m \u001B[38;5;167;01mUnicodeDecodeError\u001B[39;00m:\n\u001B[1;32m     37\u001B[0m     \u001B[38;5;66;03m# Assumes it's a binary file otherwise...\u001B[39;00m\n",
      "File \u001B[0;32m~/miniconda3/envs/westpa-lpath/lib/python3.10/site-packages/numpy/lib/npyio.py:1356\u001B[0m, in \u001B[0;36mloadtxt\u001B[0;34m(fname, dtype, comments, delimiter, converters, skiprows, usecols, unpack, ndmin, encoding, max_rows, quotechar, like)\u001B[0m\n\u001B[1;32m   1353\u001B[0m \u001B[38;5;28;01mif\u001B[39;00m \u001B[38;5;28misinstance\u001B[39m(delimiter, \u001B[38;5;28mbytes\u001B[39m):\n\u001B[1;32m   1354\u001B[0m     delimiter \u001B[38;5;241m=\u001B[39m delimiter\u001B[38;5;241m.\u001B[39mdecode(\u001B[38;5;124m'\u001B[39m\u001B[38;5;124mlatin1\u001B[39m\u001B[38;5;124m'\u001B[39m)\n\u001B[0;32m-> 1356\u001B[0m arr \u001B[38;5;241m=\u001B[39m \u001B[43m_read\u001B[49m\u001B[43m(\u001B[49m\u001B[43mfname\u001B[49m\u001B[43m,\u001B[49m\u001B[43m \u001B[49m\u001B[43mdtype\u001B[49m\u001B[38;5;241;43m=\u001B[39;49m\u001B[43mdtype\u001B[49m\u001B[43m,\u001B[49m\u001B[43m \u001B[49m\u001B[43mcomment\u001B[49m\u001B[38;5;241;43m=\u001B[39;49m\u001B[43mcomment\u001B[49m\u001B[43m,\u001B[49m\u001B[43m \u001B[49m\u001B[43mdelimiter\u001B[49m\u001B[38;5;241;43m=\u001B[39;49m\u001B[43mdelimiter\u001B[49m\u001B[43m,\u001B[49m\n\u001B[1;32m   1357\u001B[0m \u001B[43m            \u001B[49m\u001B[43mconverters\u001B[49m\u001B[38;5;241;43m=\u001B[39;49m\u001B[43mconverters\u001B[49m\u001B[43m,\u001B[49m\u001B[43m \u001B[49m\u001B[43mskiplines\u001B[49m\u001B[38;5;241;43m=\u001B[39;49m\u001B[43mskiprows\u001B[49m\u001B[43m,\u001B[49m\u001B[43m \u001B[49m\u001B[43musecols\u001B[49m\u001B[38;5;241;43m=\u001B[39;49m\u001B[43musecols\u001B[49m\u001B[43m,\u001B[49m\n\u001B[1;32m   1358\u001B[0m \u001B[43m            \u001B[49m\u001B[43munpack\u001B[49m\u001B[38;5;241;43m=\u001B[39;49m\u001B[43munpack\u001B[49m\u001B[43m,\u001B[49m\u001B[43m \u001B[49m\u001B[43mndmin\u001B[49m\u001B[38;5;241;43m=\u001B[39;49m\u001B[43mndmin\u001B[49m\u001B[43m,\u001B[49m\u001B[43m \u001B[49m\u001B[43mencoding\u001B[49m\u001B[38;5;241;43m=\u001B[39;49m\u001B[43mencoding\u001B[49m\u001B[43m,\u001B[49m\n\u001B[1;32m   1359\u001B[0m \u001B[43m            \u001B[49m\u001B[43mmax_rows\u001B[49m\u001B[38;5;241;43m=\u001B[39;49m\u001B[43mmax_rows\u001B[49m\u001B[43m,\u001B[49m\u001B[43m \u001B[49m\u001B[43mquote\u001B[49m\u001B[38;5;241;43m=\u001B[39;49m\u001B[43mquotechar\u001B[49m\u001B[43m)\u001B[49m\n\u001B[1;32m   1361\u001B[0m \u001B[38;5;28;01mreturn\u001B[39;00m arr\n",
      "File \u001B[0;32m~/miniconda3/envs/westpa-lpath/lib/python3.10/site-packages/numpy/lib/npyio.py:975\u001B[0m, in \u001B[0;36m_read\u001B[0;34m(fname, delimiter, comment, quote, imaginary_unit, usecols, skiplines, max_rows, converters, ndmin, unpack, dtype, encoding)\u001B[0m\n\u001B[1;32m    973\u001B[0m     fname \u001B[38;5;241m=\u001B[39m os\u001B[38;5;241m.\u001B[39mfspath(fname)\n\u001B[1;32m    974\u001B[0m \u001B[38;5;28;01mif\u001B[39;00m \u001B[38;5;28misinstance\u001B[39m(fname, \u001B[38;5;28mstr\u001B[39m):\n\u001B[0;32m--> 975\u001B[0m     fh \u001B[38;5;241m=\u001B[39m \u001B[43mnp\u001B[49m\u001B[38;5;241;43m.\u001B[39;49m\u001B[43mlib\u001B[49m\u001B[38;5;241;43m.\u001B[39;49m\u001B[43m_datasource\u001B[49m\u001B[38;5;241;43m.\u001B[39;49m\u001B[43mopen\u001B[49m\u001B[43m(\u001B[49m\u001B[43mfname\u001B[49m\u001B[43m,\u001B[49m\u001B[43m \u001B[49m\u001B[38;5;124;43m'\u001B[39;49m\u001B[38;5;124;43mrt\u001B[39;49m\u001B[38;5;124;43m'\u001B[39;49m\u001B[43m,\u001B[49m\u001B[43m \u001B[49m\u001B[43mencoding\u001B[49m\u001B[38;5;241;43m=\u001B[39;49m\u001B[43mencoding\u001B[49m\u001B[43m)\u001B[49m\n\u001B[1;32m    976\u001B[0m     \u001B[38;5;28;01mif\u001B[39;00m encoding \u001B[38;5;129;01mis\u001B[39;00m \u001B[38;5;28;01mNone\u001B[39;00m:\n\u001B[1;32m    977\u001B[0m         encoding \u001B[38;5;241m=\u001B[39m \u001B[38;5;28mgetattr\u001B[39m(fh, \u001B[38;5;124m'\u001B[39m\u001B[38;5;124mencoding\u001B[39m\u001B[38;5;124m'\u001B[39m, \u001B[38;5;124m'\u001B[39m\u001B[38;5;124mlatin1\u001B[39m\u001B[38;5;124m'\u001B[39m)\n",
      "File \u001B[0;32m~/miniconda3/envs/westpa-lpath/lib/python3.10/site-packages/numpy/lib/_datasource.py:193\u001B[0m, in \u001B[0;36mopen\u001B[0;34m(path, mode, destpath, encoding, newline)\u001B[0m\n\u001B[1;32m    156\u001B[0m \u001B[38;5;250m\u001B[39m\u001B[38;5;124;03m\"\"\"\u001B[39;00m\n\u001B[1;32m    157\u001B[0m \u001B[38;5;124;03mOpen `path` with `mode` and return the file object.\u001B[39;00m\n\u001B[1;32m    158\u001B[0m \n\u001B[0;32m   (...)\u001B[0m\n\u001B[1;32m    189\u001B[0m \n\u001B[1;32m    190\u001B[0m \u001B[38;5;124;03m\"\"\"\u001B[39;00m\n\u001B[1;32m    192\u001B[0m ds \u001B[38;5;241m=\u001B[39m DataSource(destpath)\n\u001B[0;32m--> 193\u001B[0m \u001B[38;5;28;01mreturn\u001B[39;00m \u001B[43mds\u001B[49m\u001B[38;5;241;43m.\u001B[39;49m\u001B[43mopen\u001B[49m\u001B[43m(\u001B[49m\u001B[43mpath\u001B[49m\u001B[43m,\u001B[49m\u001B[43m \u001B[49m\u001B[43mmode\u001B[49m\u001B[43m,\u001B[49m\u001B[43m \u001B[49m\u001B[43mencoding\u001B[49m\u001B[38;5;241;43m=\u001B[39;49m\u001B[43mencoding\u001B[49m\u001B[43m,\u001B[49m\u001B[43m \u001B[49m\u001B[43mnewline\u001B[49m\u001B[38;5;241;43m=\u001B[39;49m\u001B[43mnewline\u001B[49m\u001B[43m)\u001B[49m\n",
      "File \u001B[0;32m~/miniconda3/envs/westpa-lpath/lib/python3.10/site-packages/numpy/lib/_datasource.py:533\u001B[0m, in \u001B[0;36mDataSource.open\u001B[0;34m(self, path, mode, encoding, newline)\u001B[0m\n\u001B[1;32m    530\u001B[0m     \u001B[38;5;28;01mreturn\u001B[39;00m _file_openers[ext](found, mode\u001B[38;5;241m=\u001B[39mmode,\n\u001B[1;32m    531\u001B[0m                               encoding\u001B[38;5;241m=\u001B[39mencoding, newline\u001B[38;5;241m=\u001B[39mnewline)\n\u001B[1;32m    532\u001B[0m \u001B[38;5;28;01melse\u001B[39;00m:\n\u001B[0;32m--> 533\u001B[0m     \u001B[38;5;28;01mraise\u001B[39;00m \u001B[38;5;167;01mFileNotFoundError\u001B[39;00m(\u001B[38;5;124mf\u001B[39m\u001B[38;5;124m\"\u001B[39m\u001B[38;5;132;01m{\u001B[39;00mpath\u001B[38;5;132;01m}\u001B[39;00m\u001B[38;5;124m not found.\u001B[39m\u001B[38;5;124m\"\u001B[39m)\n",
      "\u001B[0;31mFileNotFoundError\u001B[0m: succ_traj/output.pickle not found."
     ]
    }
   ],
   "source": [
    "# Run discretize with the parameters defined in the cell above.\n",
    "match.main(match_args)"
   ]
  },
  {
   "cell_type": "code",
   "execution_count": null,
   "outputs": [],
   "source": [],
   "metadata": {
    "collapsed": false
   },
   "id": "67402a920f7ffe00"
  },
  {
   "cell_type": "markdown",
   "source": [
    "## Run All"
   ],
   "metadata": {
    "collapsed": false
   },
   "id": "1ae15a65569223f4"
  },
  {
   "cell_type": "code",
   "execution_count": null,
   "outputs": [],
   "source": [
    "# For calling all steps directly. Note all parameters are specified manually here.\n",
    "import argparse\n",
    "from lpath.lpath import main\n",
    "\n",
    "all_args = argparse.Namespace(\n",
    "    # Common Parameters\n",
    "    out_dir=\"succ_traj\",  # Name of directory to output the trajectories.\n",
    "    debug=False,  # Debug mode\n",
    "    we=False,  # Not analyzing a WE simulation.\n",
    "    stats=True,  # Output results statistics\n",
    "    stride=1,  # Loading at stride=1. Increase to add more frames.\n",
    "\n",
    "    # Discretize Parameters\n",
    "    input_name='dihedral.npy',  # Input data for state assignment. Something like 'dihedral.npy'.\n",
    "    extract_input='states.npy',  # Output file name for the state assignment.\n",
    "    assign_func='assign_dih',  # Assign function that dictates how to assign states\n",
    " \n",
    "    # Extract Parameters\n",
    "    # Note west_name and assign_name are repeated from above and removed\n",
    "    extract_output='succ_traj/output.pickle',  # Name of input assign.h5 file\n",
    "    source_state_num=0,  # Index of the source state as defined in assign_name.\n",
    "    target_state_num=1,  # Index of the target state as defined in assign_name.\n",
    "    pcoord=False,  # Option to output extra datasets\n",
    "    featurization_name='states.npy',  # Specify a file name if pcoord=True \n",
    "    feature_stride=1,  # Option to stride `pcoord`\n",
    "    exclude_short=0,  # Exclude trajectories shorter than provided value during matching. 0 excludes none.\n",
    "\n",
    "    # Match Parameters\n",
    "    # Note west_name, assign_name and out_dir are repeated from above and removed\n",
    "    output_pickle='succ_traj/pathways.pickle',  # Output file name of the new reassigned pathways from `lpath.match`\n",
    "    reassign_method='reassign_custom',  # Reassign method. Could be a module to be loaded.\n",
    "    match_metric='longest_common_subsequence',  # Use the longest common subsequence metric.\n",
    "    match_vanilla=False, # Whether to use the metric with a correction term\n",
    "    dmatrix_remake=True,  # Enable to remake the distance Matrix\n",
    "    dmatrix_save='succ_traj/distmat.npy',  # If dmatrix_remake is False, load this file instead.\n",
    "    dmatrix_parallel=-1,  # Number of jobs to submit for distance matrix calculation. Set to -1 to use everything.\n",
    "    dendrogram_threshold=0.5,  # Threshold for the Dendrogram\n",
    "    dendrogram_show=True,  # Show the Dendrogram using plt.show()\n",
    "    cl_output='succ_traj/cluster_labels.npy',  # Output path for cluster labels\n",
    "    clusters=None,  # Cluster index to output... otherwise None --> All\n",
    ")"
   ],
   "metadata": {
    "collapsed": false
   },
   "id": "fc5a66d972080cc5"
  },
  {
   "cell_type": "code",
   "execution_count": null,
   "outputs": [],
   "source": [
    "lpath.main(all_args)"
   ],
   "metadata": {
    "collapsed": false
   },
   "id": "d81e3ac09b689ccf"
  },
  {
   "cell_type": "code",
   "execution_count": null,
   "outputs": [],
   "source": [],
   "metadata": {
    "collapsed": false
   },
   "id": "7a3a919c55bc15ab"
  }
 ],
 "metadata": {
  "kernelspec": {
   "display_name": "Python 3 (ipykernel)",
   "language": "python",
   "name": "python3"
  },
  "language_info": {
   "codemirror_mode": {
    "name": "ipython",
    "version": 3
   },
   "file_extension": ".py",
   "mimetype": "text/x-python",
   "name": "python",
   "nbconvert_exporter": "python",
   "pygments_lexer": "ipython3",
   "version": "3.10.10"
  }
 },
 "nbformat": 4,
 "nbformat_minor": 5
}
