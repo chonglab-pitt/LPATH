{
 "cells": [
  {
   "cell_type": "markdown",
   "id": "5ec06693",
   "metadata": {},
   "source": [
    "# Example WE Notebook for lpath"
   ]
  },
  {
   "cell_type": "markdown",
   "id": "16e05d9c",
   "metadata": {},
   "source": [
    "This notebook details steps towards running the whole lpath analysis with a WE simulation. Check our [Sphinx documentation](https://lpath.readthedocs.io) for more up-to-date information about each function.\n",
    "\n",
    "By Jeremy Leung\n",
    "Last updated: May 15th, 2023"
   ]
  },
  {
   "cell_type": "markdown",
   "id": "5367e35d",
   "metadata": {},
   "source": [
    "## Common cells"
   ]
  },
  {
   "cell_type": "code",
   "execution_count": 1,
   "id": "382125e9",
   "metadata": {
    "ExecuteTime": {
     "end_time": "2023-08-29T16:28:13.129250Z",
     "start_time": "2023-08-29T16:28:11.028251Z"
    }
   },
   "outputs": [
    {
     "name": "stderr",
     "output_type": "stream",
     "text": [
      "/Users/RainbowIslands/miniconda3/envs/westpa-lpath/lib/python3.10/site-packages/tqdm/auto.py:21: TqdmWarning: IProgress not found. Please update jupyter and ipywidgets. See https://ipywidgets.readthedocs.io/en/stable/user_install.html\n",
      "  from .autonotebook import tqdm as notebook_tqdm\n"
     ]
    }
   ],
   "source": [
    "# Imports for all steps\n",
    "import argparse\n",
    "from lpath import discretize, extract, match, lpath"
   ]
  },
  {
   "cell_type": "code",
   "execution_count": null,
   "outputs": [],
   "source": [],
   "metadata": {
    "collapsed": false
   },
   "id": "65af902bc14ca3b7"
  },
  {
   "cell_type": "markdown",
   "id": "97319650",
   "metadata": {},
   "source": [
    "## Discretize"
   ]
  },
  {
   "cell_type": "code",
   "execution_count": 8,
   "id": "1d2e2f15",
   "metadata": {
    "ExecuteTime": {
     "end_time": "2023-08-29T16:31:26.696714Z",
     "start_time": "2023-08-29T16:31:26.693742Z"
    }
   },
   "outputs": [],
   "source": [
    "# Arguments for `discretize` step.\n",
    "discretize_args = argparse.Namespace(\n",
    "    # Common and I/O\n",
    "    we=True,  # Analyzing a WE simulation\n",
    "    stats=True,  # Output results statistics\n",
    "    debug=False,  # Debug mode\n",
    "    out_dir='succ_traj',  # Name of directory to output the trajectories\n",
    "    stride=1,  # Number of frames to output per WE tau interval\n",
    "    west_name='west.h5',  # Name of input HDF5 file (e.g., west.h5)\n",
    "    assign_name='ANALYSIS/C7_EQ/assign.h5',  # Name of input assign.h5 file\n",
    "    rcfile='west.cfg',  # west.cfg file\n",
    "    input_name='west.h5',  # Input data for state assignment. Ignored for WE.\n",
    "    extract_input='assign.h5',  # Output file name for the state assignment. Ignored for WE.\n",
    "    assign_func='default_assign',  # Assign function that dictates how to assign states\n",
    "    assign_args=argparse.Namespace(  # These are arguments for w_assign\n",
    "        verbosity='verbose',  # Verbose or debug\n",
    "        rcfile=\"west.cfg\",  # west.cfg\n",
    "        max_queue_length=None,\n",
    "        we_h5filename='west.h5',  # west.h5 path. Should match west_name\n",
    "        construct_dataset=None,  # If you need some custom auxiliary dataset\n",
    "        dsspecs=None,\n",
    "        output='assign.h5',  # Output file. Should match assign_name.\n",
    "        subsample=None,\n",
    "        config_from_file=True,  # Read config from rcfile\n",
    "        scheme='TEST',  # Scheme name\n",
    "    ),\n",
    ")"
   ]
  },
  {
   "cell_type": "code",
   "execution_count": 9,
   "id": "ca85f9af",
   "metadata": {
    "ExecuteTime": {
     "end_time": "2023-08-29T16:31:27.598292Z",
     "start_time": "2023-08-29T16:31:27.364002Z"
    }
   },
   "outputs": [
    {
     "name": "stdout",
     "output_type": "stream",
     "text": [
      "lpath.discretize — \u001B[1;32mINFO\u001B[0m — Replaced parameter output file name with ``assign_name``\n"
     ]
    },
    {
     "ename": "FileNotFoundError",
     "evalue": "[Errno 2] Unable to synchronously open file (unable to open file: name = 'west.h5', errno = 2, error message = 'No such file or directory', flags = 1, o_flags = 2)",
     "output_type": "error",
     "traceback": [
      "\u001B[0;31m---------------------------------------------------------------------------\u001B[0m",
      "\u001B[0;31mFileNotFoundError\u001B[0m                         Traceback (most recent call last)",
      "Cell \u001B[0;32mIn[9], line 2\u001B[0m\n\u001B[1;32m      1\u001B[0m \u001B[38;5;66;03m# Run discretize with the parameters defined in the cell above.\u001B[39;00m\n\u001B[0;32m----> 2\u001B[0m \u001B[43mdiscretize\u001B[49m\u001B[38;5;241;43m.\u001B[39;49m\u001B[43mmain\u001B[49m\u001B[43m(\u001B[49m\u001B[43mdiscretize_args\u001B[49m\u001B[43m)\u001B[49m\n",
      "File \u001B[0;32m~/Documents/Important/Pitt/git/lpath/lpath/discretize.py:88\u001B[0m, in \u001B[0;36mmain\u001B[0;34m(arguments)\u001B[0m\n\u001B[1;32m     85\u001B[0m tool\u001B[38;5;241m.\u001B[39mwm_env\u001B[38;5;241m.\u001B[39mprocess_wm_args(arguments\u001B[38;5;241m.\u001B[39massign_args)\n\u001B[1;32m     86\u001B[0m tool\u001B[38;5;241m.\u001B[39mwork_manager \u001B[38;5;241m=\u001B[39m tool\u001B[38;5;241m.\u001B[39mwm_env\u001B[38;5;241m.\u001B[39mmake_work_manager()\n\u001B[0;32m---> 88\u001B[0m \u001B[43mtool\u001B[49m\u001B[38;5;241;43m.\u001B[39;49m\u001B[43mprocess_all_args\u001B[49m\u001B[43m(\u001B[49m\u001B[43marguments\u001B[49m\u001B[38;5;241;43m.\u001B[39;49m\u001B[43massign_args\u001B[49m\u001B[43m)\u001B[49m\n\u001B[1;32m     89\u001B[0m \u001B[38;5;28;01mwith\u001B[39;00m tool\u001B[38;5;241m.\u001B[39mwork_manager:\n\u001B[1;32m     90\u001B[0m     \u001B[38;5;28;01mif\u001B[39;00m tool\u001B[38;5;241m.\u001B[39mwork_manager\u001B[38;5;241m.\u001B[39mis_master:\n",
      "File \u001B[0;32m~/Documents/Important/Pitt/git/westpa-arm/src/westpa/tools/core.py:66\u001B[0m, in \u001B[0;36mWESTToolComponent.process_all_args\u001B[0;34m(self, args)\u001B[0m\n\u001B[1;32m     64\u001B[0m     \u001B[38;5;28;01mpass\u001B[39;00m\n\u001B[1;32m     65\u001B[0m \u001B[38;5;28;01melse\u001B[39;00m:\n\u001B[0;32m---> 66\u001B[0m     \u001B[43mfn\u001B[49m\u001B[43m(\u001B[49m\u001B[38;5;28;43mself\u001B[39;49m\u001B[43m,\u001B[49m\u001B[43m \u001B[49m\u001B[43margs\u001B[49m\u001B[43m)\u001B[49m\n",
      "File \u001B[0;32m~/Documents/Important/Pitt/git/westpa-arm/src/westpa/cli/tools/w_assign.py:283\u001B[0m, in \u001B[0;36mWAssign.process_args\u001B[0;34m(self, args)\u001B[0m\n\u001B[1;32m    280\u001B[0m \u001B[38;5;28mself\u001B[39m\u001B[38;5;241m.\u001B[39mdata_reader\u001B[38;5;241m.\u001B[39mprocess_args(args)\n\u001B[1;32m    281\u001B[0m \u001B[38;5;66;03m# Necessary to open the file to get the current iteration\u001B[39;00m\n\u001B[1;32m    282\u001B[0m \u001B[38;5;66;03m# if we want to use the mapper in the file\u001B[39;00m\n\u001B[0;32m--> 283\u001B[0m \u001B[38;5;28;43mself\u001B[39;49m\u001B[38;5;241;43m.\u001B[39;49m\u001B[43mdata_reader\u001B[49m\u001B[38;5;241;43m.\u001B[39;49m\u001B[43mopen\u001B[49m\u001B[43m(\u001B[49m\u001B[43mmode\u001B[49m\u001B[38;5;241;43m=\u001B[39;49m\u001B[38;5;124;43m'\u001B[39;49m\u001B[38;5;124;43mr+\u001B[39;49m\u001B[38;5;124;43m'\u001B[39;49m\u001B[43m)\u001B[49m\n\u001B[1;32m    284\u001B[0m \u001B[38;5;28mself\u001B[39m\u001B[38;5;241m.\u001B[39mn_iter \u001B[38;5;241m=\u001B[39m \u001B[38;5;28mself\u001B[39m\u001B[38;5;241m.\u001B[39mdata_reader\u001B[38;5;241m.\u001B[39mcurrent_iteration\n\u001B[1;32m    285\u001B[0m \u001B[38;5;66;03m# If we decide to use this option for iteration selection:\u001B[39;00m\n\u001B[1;32m    286\u001B[0m \u001B[38;5;66;03m# getattr(args,'bins_from_h5file',None) or self.data_reader.current_iteration\u001B[39;00m\n",
      "File \u001B[0;32m~/Documents/Important/Pitt/git/westpa-arm/src/westpa/tools/data_reader.py:55\u001B[0m, in \u001B[0;36mWESTDataReader.open\u001B[0;34m(self, mode)\u001B[0m\n\u001B[1;32m     54\u001B[0m \u001B[38;5;28;01mdef\u001B[39;00m \u001B[38;5;21mopen\u001B[39m(\u001B[38;5;28mself\u001B[39m, mode\u001B[38;5;241m=\u001B[39m\u001B[38;5;124m'\u001B[39m\u001B[38;5;124mr\u001B[39m\u001B[38;5;124m'\u001B[39m):\n\u001B[0;32m---> 55\u001B[0m     \u001B[38;5;28;43mself\u001B[39;49m\u001B[38;5;241;43m.\u001B[39;49m\u001B[43mdata_manager\u001B[49m\u001B[38;5;241;43m.\u001B[39;49m\u001B[43mopen_backing\u001B[49m\u001B[43m(\u001B[49m\u001B[43mmode\u001B[49m\u001B[43m)\u001B[49m\n",
      "File \u001B[0;32m~/Documents/Important/Pitt/git/westpa-arm/src/westpa/core/data_manager.py:352\u001B[0m, in \u001B[0;36mWESTDataManager.open_backing\u001B[0;34m(self, mode)\u001B[0m\n\u001B[1;32m    350\u001B[0m \u001B[38;5;28;01mif\u001B[39;00m \u001B[38;5;129;01mnot\u001B[39;00m \u001B[38;5;28mself\u001B[39m\u001B[38;5;241m.\u001B[39mwe_h5file:\n\u001B[1;32m    351\u001B[0m     log\u001B[38;5;241m.\u001B[39mdebug(\u001B[38;5;124m'\u001B[39m\u001B[38;5;124mattempting to open \u001B[39m\u001B[38;5;132;01m{}\u001B[39;00m\u001B[38;5;124m with mode \u001B[39m\u001B[38;5;132;01m{}\u001B[39;00m\u001B[38;5;124m'\u001B[39m\u001B[38;5;241m.\u001B[39mformat(\u001B[38;5;28mself\u001B[39m\u001B[38;5;241m.\u001B[39mwe_h5filename, mode))\n\u001B[0;32m--> 352\u001B[0m     \u001B[38;5;28mself\u001B[39m\u001B[38;5;241m.\u001B[39mwe_h5file \u001B[38;5;241m=\u001B[39m \u001B[43mh5io\u001B[49m\u001B[38;5;241;43m.\u001B[39;49m\u001B[43mWESTPAH5File\u001B[49m\u001B[43m(\u001B[49m\u001B[38;5;28;43mself\u001B[39;49m\u001B[38;5;241;43m.\u001B[39;49m\u001B[43mwe_h5filename\u001B[49m\u001B[43m,\u001B[49m\u001B[43m \u001B[49m\u001B[43mmode\u001B[49m\u001B[43m,\u001B[49m\u001B[43m \u001B[49m\u001B[43mdriver\u001B[49m\u001B[38;5;241;43m=\u001B[39;49m\u001B[38;5;28;43mself\u001B[39;49m\u001B[38;5;241;43m.\u001B[39;49m\u001B[43mwe_h5file_driver\u001B[49m\u001B[43m)\u001B[49m\n\u001B[1;32m    354\u001B[0m     h5file_attrs \u001B[38;5;241m=\u001B[39m \u001B[38;5;28mself\u001B[39m\u001B[38;5;241m.\u001B[39mwe_h5file[\u001B[38;5;124m'\u001B[39m\u001B[38;5;124m/\u001B[39m\u001B[38;5;124m'\u001B[39m]\u001B[38;5;241m.\u001B[39mattrs\n\u001B[1;32m    355\u001B[0m     h5file_attr_keys \u001B[38;5;241m=\u001B[39m \u001B[38;5;28mlist\u001B[39m(h5file_attrs\u001B[38;5;241m.\u001B[39mkeys())\n",
      "File \u001B[0;32m~/Documents/Important/Pitt/git/westpa-arm/src/westpa/core/h5io.py:383\u001B[0m, in \u001B[0;36mWESTPAH5File.__init__\u001B[0;34m(self, *args, **kwargs)\u001B[0m\n\u001B[1;32m    380\u001B[0m arg_creating_program \u001B[38;5;241m=\u001B[39m kwargs\u001B[38;5;241m.\u001B[39mpop(\u001B[38;5;124m'\u001B[39m\u001B[38;5;124mcreating_program\u001B[39m\u001B[38;5;124m'\u001B[39m, \u001B[38;5;28;01mNone\u001B[39;00m)\n\u001B[1;32m    382\u001B[0m \u001B[38;5;66;03m# Initialize h5py file\u001B[39;00m\n\u001B[0;32m--> 383\u001B[0m \u001B[38;5;28;43msuper\u001B[39;49m\u001B[43m(\u001B[49m\u001B[43m)\u001B[49m\u001B[38;5;241;43m.\u001B[39;49m\u001B[38;5;21;43m__init__\u001B[39;49m\u001B[43m(\u001B[49m\u001B[38;5;241;43m*\u001B[39;49m\u001B[43margs\u001B[49m\u001B[43m,\u001B[49m\u001B[43m \u001B[49m\u001B[38;5;241;43m*\u001B[39;49m\u001B[38;5;241;43m*\u001B[39;49m\u001B[43mkwargs\u001B[49m\u001B[43m)\u001B[49m\n\u001B[1;32m    385\u001B[0m \u001B[38;5;66;03m# Try to get iteration precision and I/O class version\u001B[39;00m\n\u001B[1;32m    386\u001B[0m h5file_iter_prec \u001B[38;5;241m=\u001B[39m _get_one_attr(\u001B[38;5;28mself\u001B[39m, [\u001B[38;5;124m'\u001B[39m\u001B[38;5;124mwestpa_iter_prec\u001B[39m\u001B[38;5;124m'\u001B[39m, \u001B[38;5;124m'\u001B[39m\u001B[38;5;124mwest_iter_prec\u001B[39m\u001B[38;5;124m'\u001B[39m, \u001B[38;5;124m'\u001B[39m\u001B[38;5;124mwemd_iter_prec\u001B[39m\u001B[38;5;124m'\u001B[39m], \u001B[38;5;28;01mNone\u001B[39;00m)\n",
      "File \u001B[0;32m~/miniconda3/envs/westpa-lpath/lib/python3.10/site-packages/h5py/_hl/files.py:567\u001B[0m, in \u001B[0;36mFile.__init__\u001B[0;34m(self, name, mode, driver, libver, userblock_size, swmr, rdcc_nslots, rdcc_nbytes, rdcc_w0, track_order, fs_strategy, fs_persist, fs_threshold, fs_page_size, page_buf_size, min_meta_keep, min_raw_keep, locking, alignment_threshold, alignment_interval, meta_block_size, **kwds)\u001B[0m\n\u001B[1;32m    558\u001B[0m     fapl \u001B[38;5;241m=\u001B[39m make_fapl(driver, libver, rdcc_nslots, rdcc_nbytes, rdcc_w0,\n\u001B[1;32m    559\u001B[0m                      locking, page_buf_size, min_meta_keep, min_raw_keep,\n\u001B[1;32m    560\u001B[0m                      alignment_threshold\u001B[38;5;241m=\u001B[39malignment_threshold,\n\u001B[1;32m    561\u001B[0m                      alignment_interval\u001B[38;5;241m=\u001B[39malignment_interval,\n\u001B[1;32m    562\u001B[0m                      meta_block_size\u001B[38;5;241m=\u001B[39mmeta_block_size,\n\u001B[1;32m    563\u001B[0m                      \u001B[38;5;241m*\u001B[39m\u001B[38;5;241m*\u001B[39mkwds)\n\u001B[1;32m    564\u001B[0m     fcpl \u001B[38;5;241m=\u001B[39m make_fcpl(track_order\u001B[38;5;241m=\u001B[39mtrack_order, fs_strategy\u001B[38;5;241m=\u001B[39mfs_strategy,\n\u001B[1;32m    565\u001B[0m                      fs_persist\u001B[38;5;241m=\u001B[39mfs_persist, fs_threshold\u001B[38;5;241m=\u001B[39mfs_threshold,\n\u001B[1;32m    566\u001B[0m                      fs_page_size\u001B[38;5;241m=\u001B[39mfs_page_size)\n\u001B[0;32m--> 567\u001B[0m     fid \u001B[38;5;241m=\u001B[39m \u001B[43mmake_fid\u001B[49m\u001B[43m(\u001B[49m\u001B[43mname\u001B[49m\u001B[43m,\u001B[49m\u001B[43m \u001B[49m\u001B[43mmode\u001B[49m\u001B[43m,\u001B[49m\u001B[43m \u001B[49m\u001B[43muserblock_size\u001B[49m\u001B[43m,\u001B[49m\u001B[43m \u001B[49m\u001B[43mfapl\u001B[49m\u001B[43m,\u001B[49m\u001B[43m \u001B[49m\u001B[43mfcpl\u001B[49m\u001B[43m,\u001B[49m\u001B[43m \u001B[49m\u001B[43mswmr\u001B[49m\u001B[38;5;241;43m=\u001B[39;49m\u001B[43mswmr\u001B[49m\u001B[43m)\u001B[49m\n\u001B[1;32m    569\u001B[0m \u001B[38;5;28;01mif\u001B[39;00m \u001B[38;5;28misinstance\u001B[39m(libver, \u001B[38;5;28mtuple\u001B[39m):\n\u001B[1;32m    570\u001B[0m     \u001B[38;5;28mself\u001B[39m\u001B[38;5;241m.\u001B[39m_libver \u001B[38;5;241m=\u001B[39m libver\n",
      "File \u001B[0;32m~/miniconda3/envs/westpa-lpath/lib/python3.10/site-packages/h5py/_hl/files.py:233\u001B[0m, in \u001B[0;36mmake_fid\u001B[0;34m(name, mode, userblock_size, fapl, fcpl, swmr)\u001B[0m\n\u001B[1;32m    231\u001B[0m     fid \u001B[38;5;241m=\u001B[39m h5f\u001B[38;5;241m.\u001B[39mopen(name, flags, fapl\u001B[38;5;241m=\u001B[39mfapl)\n\u001B[1;32m    232\u001B[0m \u001B[38;5;28;01melif\u001B[39;00m mode \u001B[38;5;241m==\u001B[39m \u001B[38;5;124m'\u001B[39m\u001B[38;5;124mr+\u001B[39m\u001B[38;5;124m'\u001B[39m:\n\u001B[0;32m--> 233\u001B[0m     fid \u001B[38;5;241m=\u001B[39m \u001B[43mh5f\u001B[49m\u001B[38;5;241;43m.\u001B[39;49m\u001B[43mopen\u001B[49m\u001B[43m(\u001B[49m\u001B[43mname\u001B[49m\u001B[43m,\u001B[49m\u001B[43m \u001B[49m\u001B[43mh5f\u001B[49m\u001B[38;5;241;43m.\u001B[39;49m\u001B[43mACC_RDWR\u001B[49m\u001B[43m,\u001B[49m\u001B[43m \u001B[49m\u001B[43mfapl\u001B[49m\u001B[38;5;241;43m=\u001B[39;49m\u001B[43mfapl\u001B[49m\u001B[43m)\u001B[49m\n\u001B[1;32m    234\u001B[0m \u001B[38;5;28;01melif\u001B[39;00m mode \u001B[38;5;129;01min\u001B[39;00m [\u001B[38;5;124m'\u001B[39m\u001B[38;5;124mw-\u001B[39m\u001B[38;5;124m'\u001B[39m, \u001B[38;5;124m'\u001B[39m\u001B[38;5;124mx\u001B[39m\u001B[38;5;124m'\u001B[39m]:\n\u001B[1;32m    235\u001B[0m     fid \u001B[38;5;241m=\u001B[39m h5f\u001B[38;5;241m.\u001B[39mcreate(name, h5f\u001B[38;5;241m.\u001B[39mACC_EXCL, fapl\u001B[38;5;241m=\u001B[39mfapl, fcpl\u001B[38;5;241m=\u001B[39mfcpl)\n",
      "File \u001B[0;32mh5py/_objects.pyx:54\u001B[0m, in \u001B[0;36mh5py._objects.with_phil.wrapper\u001B[0;34m()\u001B[0m\n",
      "File \u001B[0;32mh5py/_objects.pyx:55\u001B[0m, in \u001B[0;36mh5py._objects.with_phil.wrapper\u001B[0;34m()\u001B[0m\n",
      "File \u001B[0;32mh5py/h5f.pyx:106\u001B[0m, in \u001B[0;36mh5py.h5f.open\u001B[0;34m()\u001B[0m\n",
      "\u001B[0;31mFileNotFoundError\u001B[0m: [Errno 2] Unable to synchronously open file (unable to open file: name = 'west.h5', errno = 2, error message = 'No such file or directory', flags = 1, o_flags = 2)"
     ]
    }
   ],
   "source": [
    "# Run discretize with the parameters defined in the cell above.\n",
    "discretize.main(discretize_args)"
   ]
  },
  {
   "cell_type": "code",
   "execution_count": null,
   "id": "69adaa72",
   "metadata": {},
   "outputs": [],
   "source": []
  },
  {
   "cell_type": "markdown",
   "id": "e264d50d",
   "metadata": {},
   "source": [
    "## Extract"
   ]
  },
  {
   "cell_type": "code",
   "execution_count": 12,
   "id": "d3f8dce6",
   "metadata": {
    "ExecuteTime": {
     "end_time": "2023-08-29T16:34:33.998808Z",
     "start_time": "2023-08-29T16:34:33.994585Z"
    }
   },
   "outputs": [],
   "source": [
    "# Arguments for the `extract` step.\n",
    "extract_args = argparse.Namespace(\n",
    "    # Common and I/O\n",
    "    we=True,  # Analyzing a WE simulation\n",
    "    stats=True,  # Output results statistics\n",
    "    debug=False,  # Debug mode\n",
    "    out_dir='succ_traj',  # Name of directory to output the trajectories\n",
    "    stride=1,  # Number of frames to output per WE tau interval\n",
    "    exclude_short=0,  # Exclude trajectories shorter than provided value during matching. 0 excludes none.\n",
    "    west_name='west.h5',  # Name of input HDF5 file (e.g., west.h5)\n",
    "    assign_name='ANALYSIS/C7_EQ/assign.h5',  # Name of input assign.h5 file\n",
    "    rcfile='west.cfg',  # west.cfg file\n",
    "\n",
    "    # Extract specific things\n",
    "    source_state_num=0,  # Index of the source state as defined in assign.h5.\n",
    "    target_state_num=1,  # Index of the target state as defined in assign.h5.\n",
    "    first_iter=1,  # First iteration to analyze. Inclusive\n",
    "    last_iter=200,  # Last iteration to analyze. Inclusive. 0 implies it will analyze all labeled iterations.\n",
    "    trace_basis=True,  # Option to analyze each successful trajectory up till its basis state.\n",
    "    out_traj=False,  # Option to output trajectory files into `out_dir`. Will take much longer.\n",
    "    out_traj_ext='.nc',  # Extension of the segment files. Defaults to `seg{out_traj_ext}`.\n",
    "    out_state_ext='.ncrst',  # Extension of the restart files. Defaults to `seg{out_state_ext}`.\n",
    "    out_top='system.prmtop',  # Name of the parameter file. Name relative to `$WEST_SIM_ROOT/common_files`.\n",
    "    extract_output=\"succ_traj/output.pickle\",  # Name of the pickle file to be outputted.\n",
    "    hdf5=False,  # Enable if trajectories are saved with the HDF5 Framework in WESTPA.\n",
    "    rewrite_weights=False,  # Option to zero out the weights of all segments that are not a successful trajectory.\n",
    "    pcoord=True,  # Option to output the pcoord into the `output.pickle`.\n",
    "    auxdata=['phi', 'psi'],  # Additional auxiliary data to save into `output.pickle`.\n",
    "    use_ray=False,  # Enable Ray.\n",
    "    threads=0,  # How many Ray threads/actors to use. Defaults to 0, which wil use all auto-detected resources.\n",
    ")"
   ]
  },
  {
   "cell_type": "code",
   "execution_count": 13,
   "id": "0497375f",
   "metadata": {
    "ExecuteTime": {
     "end_time": "2023-08-29T16:34:34.496116Z",
     "start_time": "2023-08-29T16:34:34.389525Z"
    }
   },
   "outputs": [
    {
     "ename": "FileNotFoundError",
     "evalue": "[Errno 2] Unable to synchronously open file (unable to open file: name = 'west.h5', errno = 2, error message = 'No such file or directory', flags = 0, o_flags = 0)",
     "output_type": "error",
     "traceback": [
      "\u001B[0;31m---------------------------------------------------------------------------\u001B[0m",
      "\u001B[0;31mFileNotFoundError\u001B[0m                         Traceback (most recent call last)",
      "Cell \u001B[0;32mIn[13], line 2\u001B[0m\n\u001B[1;32m      1\u001B[0m \u001B[38;5;66;03m# Run match with the parameters defined in the cell above.\u001B[39;00m\n\u001B[0;32m----> 2\u001B[0m \u001B[43mextract\u001B[49m\u001B[38;5;241;43m.\u001B[39;49m\u001B[43mmain\u001B[49m\u001B[43m(\u001B[49m\u001B[43mextract_args\u001B[49m\u001B[43m)\u001B[49m\n",
      "File \u001B[0;32m~/Documents/Important/Pitt/git/lpath/lpath/extract.py:1054\u001B[0m, in \u001B[0;36mmain\u001B[0;34m(arguments)\u001B[0m\n\u001B[1;32m   1052\u001B[0m \u001B[38;5;28;01mif\u001B[39;00m arguments\u001B[38;5;241m.\u001B[39mwe:\n\u001B[1;32m   1053\u001B[0m     log\u001B[38;5;241m.\u001B[39mdebug(\u001B[38;5;124m'\u001B[39m\u001B[38;5;124mRunning Extract WE mode.\u001B[39m\u001B[38;5;124m'\u001B[39m)\n\u001B[0;32m-> 1054\u001B[0m     \u001B[43mwe\u001B[49m\u001B[43m(\u001B[49m\u001B[43marguments\u001B[49m\u001B[43m)\u001B[49m\n\u001B[1;32m   1055\u001B[0m \u001B[38;5;28;01melse\u001B[39;00m:\n\u001B[1;32m   1056\u001B[0m     log\u001B[38;5;241m.\u001B[39mdebug(\u001B[38;5;124m'\u001B[39m\u001B[38;5;124mRunning Extract Standard mode.\u001B[39m\u001B[38;5;124m'\u001B[39m)\n",
      "File \u001B[0;32m~/Documents/Important/Pitt/git/lpath/lpath/extract.py:1038\u001B[0m, in \u001B[0;36mwe\u001B[0;34m(arguments)\u001B[0m\n\u001B[1;32m   1035\u001B[0m \u001B[38;5;28;01melse\u001B[39;00m:\n\u001B[1;32m   1036\u001B[0m     \u001B[38;5;28;01massert\u001B[39;00m \u001B[38;5;28mtype\u001B[39m(arguments\u001B[38;5;241m.\u001B[39mlast_iter) \u001B[38;5;129;01mis\u001B[39;00m \u001B[38;5;28mint\u001B[39m, \u001B[38;5;124m\"\u001B[39m\u001B[38;5;124mlast_iter is not legal and must be int.\u001B[39m\u001B[38;5;124m\"\u001B[39m\n\u001B[0;32m-> 1038\u001B[0m \u001B[43mcheck_west_assign\u001B[49m\u001B[43m(\u001B[49m\u001B[43marguments\u001B[49m\u001B[38;5;241;43m.\u001B[39;49m\u001B[43mwest_name\u001B[49m\u001B[43m,\u001B[49m\u001B[43m \u001B[49m\u001B[43marguments\u001B[49m\u001B[38;5;241;43m.\u001B[39;49m\u001B[43massign_name\u001B[49m\u001B[43m,\u001B[49m\u001B[43m \u001B[49m\u001B[43marguments\u001B[49m\u001B[38;5;241;43m.\u001B[39;49m\u001B[43mfirst_iter\u001B[49m\u001B[43m,\u001B[49m\u001B[43m \u001B[49m\u001B[43marguments\u001B[49m\u001B[38;5;241;43m.\u001B[39;49m\u001B[43mlast_iter\u001B[49m\u001B[43m)\u001B[49m\n\u001B[1;32m   1039\u001B[0m retain_succ(last_iter\u001B[38;5;241m=\u001B[39marguments\u001B[38;5;241m.\u001B[39mlast_iter)\n",
      "File \u001B[0;32m~/Documents/Important/Pitt/git/lpath/lpath/extract.py:487\u001B[0m, in \u001B[0;36mwe.<locals>.check_west_assign\u001B[0;34m(west_name, assign_name, first_iter, last_iter)\u001B[0m\n\u001B[1;32m    468\u001B[0m \u001B[38;5;28;01mdef\u001B[39;00m \u001B[38;5;21mcheck_west_assign\u001B[39m(west_name, assign_name, first_iter, last_iter):\n\u001B[1;32m    469\u001B[0m \u001B[38;5;250m    \u001B[39m\u001B[38;5;124;03m\"\"\"\u001B[39;00m\n\u001B[1;32m    470\u001B[0m \u001B[38;5;124;03m    A function to check if the assign.h5 corresponds with west.h5.\u001B[39;00m\n\u001B[1;32m    471\u001B[0m \n\u001B[0;32m   (...)\u001B[0m\n\u001B[1;32m    485\u001B[0m \n\u001B[1;32m    486\u001B[0m \u001B[38;5;124;03m    \"\"\"\u001B[39;00m\n\u001B[0;32m--> 487\u001B[0m     \u001B[38;5;28;01mwith\u001B[39;00m \u001B[43mh5py\u001B[49m\u001B[38;5;241;43m.\u001B[39;49m\u001B[43mFile\u001B[49m\u001B[43m(\u001B[49m\u001B[43mwest_name\u001B[49m\u001B[43m)\u001B[49m \u001B[38;5;28;01mas\u001B[39;00m west_file, h5py\u001B[38;5;241m.\u001B[39mFile(assign_name) \u001B[38;5;28;01mas\u001B[39;00m assign_file:\n\u001B[1;32m    488\u001B[0m         \u001B[38;5;28;01mfor\u001B[39;00m iter_num \u001B[38;5;129;01min\u001B[39;00m \u001B[38;5;28mrange\u001B[39m(first_iter, last_iter):\n\u001B[1;32m    489\u001B[0m             \u001B[38;5;28;01massert\u001B[39;00m west_file[\u001B[38;5;124m'\u001B[39m\u001B[38;5;124msummary\u001B[39m\u001B[38;5;124m'\u001B[39m][\u001B[38;5;124m'\u001B[39m\u001B[38;5;124mn_particles\u001B[39m\u001B[38;5;124m'\u001B[39m, iter_num] \u001B[38;5;241m==\u001B[39m assign_file[\u001B[38;5;124m'\u001B[39m\u001B[38;5;124mnsegs\u001B[39m\u001B[38;5;124m'\u001B[39m][iter_num], (\n\u001B[1;32m    490\u001B[0m                 \u001B[38;5;124mf\u001B[39m\u001B[38;5;124m\"\u001B[39m\u001B[38;5;124mThe assign.h5 file provided doesn\u001B[39m\u001B[38;5;124m'\u001B[39m\u001B[38;5;124mt match the west.h5 file provided at iteration \u001B[39m\u001B[38;5;132;01m{\u001B[39;00miter_num\u001B[38;5;250m \u001B[39m\u001B[38;5;241m+\u001B[39m\u001B[38;5;241m1\u001B[39m\u001B[38;5;132;01m}\u001B[39;00m\u001B[38;5;124m.\u001B[39m\u001B[38;5;124m\"\u001B[39m)\n",
      "File \u001B[0;32m~/miniconda3/envs/westpa-lpath/lib/python3.10/site-packages/h5py/_hl/files.py:567\u001B[0m, in \u001B[0;36mFile.__init__\u001B[0;34m(self, name, mode, driver, libver, userblock_size, swmr, rdcc_nslots, rdcc_nbytes, rdcc_w0, track_order, fs_strategy, fs_persist, fs_threshold, fs_page_size, page_buf_size, min_meta_keep, min_raw_keep, locking, alignment_threshold, alignment_interval, meta_block_size, **kwds)\u001B[0m\n\u001B[1;32m    558\u001B[0m     fapl \u001B[38;5;241m=\u001B[39m make_fapl(driver, libver, rdcc_nslots, rdcc_nbytes, rdcc_w0,\n\u001B[1;32m    559\u001B[0m                      locking, page_buf_size, min_meta_keep, min_raw_keep,\n\u001B[1;32m    560\u001B[0m                      alignment_threshold\u001B[38;5;241m=\u001B[39malignment_threshold,\n\u001B[1;32m    561\u001B[0m                      alignment_interval\u001B[38;5;241m=\u001B[39malignment_interval,\n\u001B[1;32m    562\u001B[0m                      meta_block_size\u001B[38;5;241m=\u001B[39mmeta_block_size,\n\u001B[1;32m    563\u001B[0m                      \u001B[38;5;241m*\u001B[39m\u001B[38;5;241m*\u001B[39mkwds)\n\u001B[1;32m    564\u001B[0m     fcpl \u001B[38;5;241m=\u001B[39m make_fcpl(track_order\u001B[38;5;241m=\u001B[39mtrack_order, fs_strategy\u001B[38;5;241m=\u001B[39mfs_strategy,\n\u001B[1;32m    565\u001B[0m                      fs_persist\u001B[38;5;241m=\u001B[39mfs_persist, fs_threshold\u001B[38;5;241m=\u001B[39mfs_threshold,\n\u001B[1;32m    566\u001B[0m                      fs_page_size\u001B[38;5;241m=\u001B[39mfs_page_size)\n\u001B[0;32m--> 567\u001B[0m     fid \u001B[38;5;241m=\u001B[39m \u001B[43mmake_fid\u001B[49m\u001B[43m(\u001B[49m\u001B[43mname\u001B[49m\u001B[43m,\u001B[49m\u001B[43m \u001B[49m\u001B[43mmode\u001B[49m\u001B[43m,\u001B[49m\u001B[43m \u001B[49m\u001B[43muserblock_size\u001B[49m\u001B[43m,\u001B[49m\u001B[43m \u001B[49m\u001B[43mfapl\u001B[49m\u001B[43m,\u001B[49m\u001B[43m \u001B[49m\u001B[43mfcpl\u001B[49m\u001B[43m,\u001B[49m\u001B[43m \u001B[49m\u001B[43mswmr\u001B[49m\u001B[38;5;241;43m=\u001B[39;49m\u001B[43mswmr\u001B[49m\u001B[43m)\u001B[49m\n\u001B[1;32m    569\u001B[0m \u001B[38;5;28;01mif\u001B[39;00m \u001B[38;5;28misinstance\u001B[39m(libver, \u001B[38;5;28mtuple\u001B[39m):\n\u001B[1;32m    570\u001B[0m     \u001B[38;5;28mself\u001B[39m\u001B[38;5;241m.\u001B[39m_libver \u001B[38;5;241m=\u001B[39m libver\n",
      "File \u001B[0;32m~/miniconda3/envs/westpa-lpath/lib/python3.10/site-packages/h5py/_hl/files.py:231\u001B[0m, in \u001B[0;36mmake_fid\u001B[0;34m(name, mode, userblock_size, fapl, fcpl, swmr)\u001B[0m\n\u001B[1;32m    229\u001B[0m     \u001B[38;5;28;01mif\u001B[39;00m swmr \u001B[38;5;129;01mand\u001B[39;00m swmr_support:\n\u001B[1;32m    230\u001B[0m         flags \u001B[38;5;241m|\u001B[39m\u001B[38;5;241m=\u001B[39m h5f\u001B[38;5;241m.\u001B[39mACC_SWMR_READ\n\u001B[0;32m--> 231\u001B[0m     fid \u001B[38;5;241m=\u001B[39m \u001B[43mh5f\u001B[49m\u001B[38;5;241;43m.\u001B[39;49m\u001B[43mopen\u001B[49m\u001B[43m(\u001B[49m\u001B[43mname\u001B[49m\u001B[43m,\u001B[49m\u001B[43m \u001B[49m\u001B[43mflags\u001B[49m\u001B[43m,\u001B[49m\u001B[43m \u001B[49m\u001B[43mfapl\u001B[49m\u001B[38;5;241;43m=\u001B[39;49m\u001B[43mfapl\u001B[49m\u001B[43m)\u001B[49m\n\u001B[1;32m    232\u001B[0m \u001B[38;5;28;01melif\u001B[39;00m mode \u001B[38;5;241m==\u001B[39m \u001B[38;5;124m'\u001B[39m\u001B[38;5;124mr+\u001B[39m\u001B[38;5;124m'\u001B[39m:\n\u001B[1;32m    233\u001B[0m     fid \u001B[38;5;241m=\u001B[39m h5f\u001B[38;5;241m.\u001B[39mopen(name, h5f\u001B[38;5;241m.\u001B[39mACC_RDWR, fapl\u001B[38;5;241m=\u001B[39mfapl)\n",
      "File \u001B[0;32mh5py/_objects.pyx:54\u001B[0m, in \u001B[0;36mh5py._objects.with_phil.wrapper\u001B[0;34m()\u001B[0m\n",
      "File \u001B[0;32mh5py/_objects.pyx:55\u001B[0m, in \u001B[0;36mh5py._objects.with_phil.wrapper\u001B[0;34m()\u001B[0m\n",
      "File \u001B[0;32mh5py/h5f.pyx:106\u001B[0m, in \u001B[0;36mh5py.h5f.open\u001B[0;34m()\u001B[0m\n",
      "\u001B[0;31mFileNotFoundError\u001B[0m: [Errno 2] Unable to synchronously open file (unable to open file: name = 'west.h5', errno = 2, error message = 'No such file or directory', flags = 0, o_flags = 0)"
     ]
    }
   ],
   "source": [
    "# Run match with the parameters defined in the cell above.\n",
    "extract.main(extract_args)"
   ]
  },
  {
   "cell_type": "code",
   "execution_count": null,
   "id": "f291c641",
   "metadata": {},
   "outputs": [],
   "source": []
  },
  {
   "cell_type": "markdown",
   "id": "8aef8e77",
   "metadata": {},
   "source": [
    "## Pattern Match"
   ]
  },
  {
   "cell_type": "code",
   "execution_count": 22,
   "id": "43ab5a1b",
   "metadata": {
    "ExecuteTime": {
     "end_time": "2023-08-29T16:37:00.424587Z",
     "start_time": "2023-08-29T16:37:00.420731Z"
    }
   },
   "outputs": [],
   "source": [
    "# Arguments for the `match` step.\n",
    "pattern_args = argparse.Namespace(\n",
    "    we=True,  # Analyzing a WE simulation\n",
    "    stats=True,  # Output results statistics\n",
    "    out_dir='succ_traj',  # Name of directory to output the trajectories\n",
    "    extract_output='succ_traj/output.pickle',  # Input file name of the pickle from `lpath.extract`\n",
    "    output_pickle='succ_traj/pathways.pickle',  # Output file name of the new reassigned pathways from `lpath.match`\n",
    "    west_name='west.h5',  # Name of input HDF5 file (e.g., west.h5)\n",
    "    assign_name='ANALYSIS/ALL/assign.h5',  # Name of input assign.h5 file\n",
    "    reassign_method='reassign_identity',  # Reassign method. Could be a module to be loaded\n",
    "    match_metric='longest_common_subsequence',  # Use the longest common subsequence metric.\n",
    "    match_vanilla=False, # Whether to use the metric with a correction term\n",
    "    dmatrix_remake=True,  # Enable to remake the distance matrix. If false, will proceed to load `dmatrix_save`.\n",
    "    dmatrix_save='distmap.npy',  # If dmatrix_remake is False, load this file instead. Assumed located in {out_dir}.\n",
    "    dendrogram_threshold=0.5,  # Threshold for the Dendrogram\n",
    "    dendrogram_show=True,  # Show the Dendrogram using plt.show()\n",
    "    clusters=None,  # Cluster index to output... otherwise None --> All\n",
    "    cl_output='succ_traj/cluster_labels.npy',  # Output path for cluster labels\n",
    "    export_h5=True,  # Export H5 files\n",
    "    file_pattern='west_succ_c{}.h5',  # Pattern to name cluster files\n",
    ")"
   ]
  },
  {
   "cell_type": "code",
   "execution_count": 23,
   "id": "94f148c2",
   "metadata": {
    "ExecuteTime": {
     "end_time": "2023-08-29T16:37:01.069203Z",
     "start_time": "2023-08-29T16:37:00.933536Z"
    }
   },
   "outputs": [
    {
     "ename": "FileNotFoundError",
     "evalue": "succ_traj/output.pickle not found.",
     "output_type": "error",
     "traceback": [
      "\u001B[0;31m---------------------------------------------------------------------------\u001B[0m",
      "\u001B[0;31mFileNotFoundError\u001B[0m                         Traceback (most recent call last)",
      "Cell \u001B[0;32mIn[23], line 2\u001B[0m\n\u001B[1;32m      1\u001B[0m \u001B[38;5;66;03m# Run discretize with the parameters defined in the cell above.\u001B[39;00m\n\u001B[0;32m----> 2\u001B[0m \u001B[38;5;28;43;01mmatch\u001B[39;49;00m\u001B[38;5;241;43m.\u001B[39;49m\u001B[43mmain\u001B[49m\u001B[43m(\u001B[49m\u001B[43mpattern_args\u001B[49m\u001B[43m)\u001B[49m\n",
      "File \u001B[0;32m~/Documents/Important/Pitt/git/lpath/lpath/match.py:1065\u001B[0m, in \u001B[0;36mmain\u001B[0;34m(arguments)\u001B[0m\n\u001B[1;32m   1062\u001B[0m metric \u001B[38;5;241m=\u001B[39m determine_metric(arguments\u001B[38;5;241m.\u001B[39mmatch_metric, arguments\u001B[38;5;241m.\u001B[39mmatch_vanilla)\n\u001B[1;32m   1064\u001B[0m \u001B[38;5;66;03m# Prepping the data + Calculating the distance matrix\u001B[39;00m\n\u001B[0;32m-> 1065\u001B[0m data, pathways \u001B[38;5;241m=\u001B[39m \u001B[43mload_data\u001B[49m\u001B[43m(\u001B[49m\u001B[43marguments\u001B[49m\u001B[38;5;241;43m.\u001B[39;49m\u001B[43mextract_output\u001B[49m\u001B[43m)\u001B[49m\n\u001B[1;32m   1067\u001B[0m dictionary \u001B[38;5;241m=\u001B[39m {}\n\u001B[1;32m   1068\u001B[0m \u001B[38;5;66;03m# Reassignment... (or not)\u001B[39;00m\n",
      "File \u001B[0;32m~/Documents/Important/Pitt/git/lpath/lpath/match.py:364\u001B[0m, in \u001B[0;36mload_data\u001B[0;34m(file_name)\u001B[0m\n\u001B[1;32m    346\u001B[0m \u001B[38;5;28;01mdef\u001B[39;00m \u001B[38;5;21mload_data\u001B[39m(file_name):\n\u001B[1;32m    347\u001B[0m \u001B[38;5;250m    \u001B[39m\u001B[38;5;124;03m\"\"\"\u001B[39;00m\n\u001B[1;32m    348\u001B[0m \u001B[38;5;124;03m    Load in the pickle data from ``extract``.\u001B[39;00m\n\u001B[1;32m    349\u001B[0m \n\u001B[0;32m   (...)\u001B[0m\n\u001B[1;32m    362\u001B[0m \n\u001B[1;32m    363\u001B[0m \u001B[38;5;124;03m    \"\"\"\u001B[39;00m\n\u001B[0;32m--> 364\u001B[0m     data \u001B[38;5;241m=\u001B[39m \u001B[43mload_file\u001B[49m\u001B[43m(\u001B[49m\u001B[43mfile_name\u001B[49m\u001B[43m,\u001B[49m\u001B[43m \u001B[49m\u001B[38;5;241;43m1\u001B[39;49m\u001B[43m)\u001B[49m\n\u001B[1;32m    366\u001B[0m     npathways \u001B[38;5;241m=\u001B[39m \u001B[38;5;28mlen\u001B[39m(data)\n\u001B[1;32m    367\u001B[0m     \u001B[38;5;28;01massert\u001B[39;00m npathways, \u001B[38;5;124m\"\u001B[39m\u001B[38;5;124mPickle object is empty. Are you sure there are transitions?\u001B[39m\u001B[38;5;124m\"\u001B[39m\n",
      "File \u001B[0;32m~/Documents/Important/Pitt/git/lpath/lpath/io.py:34\u001B[0m, in \u001B[0;36mload_file\u001B[0;34m(input_file, stride)\u001B[0m\n\u001B[1;32m     15\u001B[0m \u001B[38;5;250m\u001B[39m\u001B[38;5;124;03m\"\"\"\u001B[39;00m\n\u001B[1;32m     16\u001B[0m \u001B[38;5;124;03mThe actual loading function.\u001B[39;00m\n\u001B[1;32m     17\u001B[0m \n\u001B[0;32m   (...)\u001B[0m\n\u001B[1;32m     30\u001B[0m \n\u001B[1;32m     31\u001B[0m \u001B[38;5;124;03m\"\"\"\u001B[39;00m\n\u001B[1;32m     32\u001B[0m \u001B[38;5;28;01mtry\u001B[39;00m:\n\u001B[1;32m     33\u001B[0m     \u001B[38;5;66;03m# Treat it as text first.\u001B[39;00m\n\u001B[0;32m---> 34\u001B[0m     data \u001B[38;5;241m=\u001B[39m \u001B[43mnumpy\u001B[49m\u001B[38;5;241;43m.\u001B[39;49m\u001B[43mloadtxt\u001B[49m\u001B[43m(\u001B[49m\u001B[43minput_file\u001B[49m\u001B[43m)\u001B[49m[::stride]\n\u001B[1;32m     35\u001B[0m     \u001B[38;5;66;03m# data = numpy.loadtxt(input_file, usecols=(1,2), skiprows=1)\u001B[39;00m\n\u001B[1;32m     36\u001B[0m \u001B[38;5;28;01mexcept\u001B[39;00m \u001B[38;5;167;01mUnicodeDecodeError\u001B[39;00m:\n\u001B[1;32m     37\u001B[0m     \u001B[38;5;66;03m# Assumes it's a binary file otherwise...\u001B[39;00m\n",
      "File \u001B[0;32m~/miniconda3/envs/westpa-lpath/lib/python3.10/site-packages/numpy/lib/npyio.py:1356\u001B[0m, in \u001B[0;36mloadtxt\u001B[0;34m(fname, dtype, comments, delimiter, converters, skiprows, usecols, unpack, ndmin, encoding, max_rows, quotechar, like)\u001B[0m\n\u001B[1;32m   1353\u001B[0m \u001B[38;5;28;01mif\u001B[39;00m \u001B[38;5;28misinstance\u001B[39m(delimiter, \u001B[38;5;28mbytes\u001B[39m):\n\u001B[1;32m   1354\u001B[0m     delimiter \u001B[38;5;241m=\u001B[39m delimiter\u001B[38;5;241m.\u001B[39mdecode(\u001B[38;5;124m'\u001B[39m\u001B[38;5;124mlatin1\u001B[39m\u001B[38;5;124m'\u001B[39m)\n\u001B[0;32m-> 1356\u001B[0m arr \u001B[38;5;241m=\u001B[39m \u001B[43m_read\u001B[49m\u001B[43m(\u001B[49m\u001B[43mfname\u001B[49m\u001B[43m,\u001B[49m\u001B[43m \u001B[49m\u001B[43mdtype\u001B[49m\u001B[38;5;241;43m=\u001B[39;49m\u001B[43mdtype\u001B[49m\u001B[43m,\u001B[49m\u001B[43m \u001B[49m\u001B[43mcomment\u001B[49m\u001B[38;5;241;43m=\u001B[39;49m\u001B[43mcomment\u001B[49m\u001B[43m,\u001B[49m\u001B[43m \u001B[49m\u001B[43mdelimiter\u001B[49m\u001B[38;5;241;43m=\u001B[39;49m\u001B[43mdelimiter\u001B[49m\u001B[43m,\u001B[49m\n\u001B[1;32m   1357\u001B[0m \u001B[43m            \u001B[49m\u001B[43mconverters\u001B[49m\u001B[38;5;241;43m=\u001B[39;49m\u001B[43mconverters\u001B[49m\u001B[43m,\u001B[49m\u001B[43m \u001B[49m\u001B[43mskiplines\u001B[49m\u001B[38;5;241;43m=\u001B[39;49m\u001B[43mskiprows\u001B[49m\u001B[43m,\u001B[49m\u001B[43m \u001B[49m\u001B[43musecols\u001B[49m\u001B[38;5;241;43m=\u001B[39;49m\u001B[43musecols\u001B[49m\u001B[43m,\u001B[49m\n\u001B[1;32m   1358\u001B[0m \u001B[43m            \u001B[49m\u001B[43munpack\u001B[49m\u001B[38;5;241;43m=\u001B[39;49m\u001B[43munpack\u001B[49m\u001B[43m,\u001B[49m\u001B[43m \u001B[49m\u001B[43mndmin\u001B[49m\u001B[38;5;241;43m=\u001B[39;49m\u001B[43mndmin\u001B[49m\u001B[43m,\u001B[49m\u001B[43m \u001B[49m\u001B[43mencoding\u001B[49m\u001B[38;5;241;43m=\u001B[39;49m\u001B[43mencoding\u001B[49m\u001B[43m,\u001B[49m\n\u001B[1;32m   1359\u001B[0m \u001B[43m            \u001B[49m\u001B[43mmax_rows\u001B[49m\u001B[38;5;241;43m=\u001B[39;49m\u001B[43mmax_rows\u001B[49m\u001B[43m,\u001B[49m\u001B[43m \u001B[49m\u001B[43mquote\u001B[49m\u001B[38;5;241;43m=\u001B[39;49m\u001B[43mquotechar\u001B[49m\u001B[43m)\u001B[49m\n\u001B[1;32m   1361\u001B[0m \u001B[38;5;28;01mreturn\u001B[39;00m arr\n",
      "File \u001B[0;32m~/miniconda3/envs/westpa-lpath/lib/python3.10/site-packages/numpy/lib/npyio.py:975\u001B[0m, in \u001B[0;36m_read\u001B[0;34m(fname, delimiter, comment, quote, imaginary_unit, usecols, skiplines, max_rows, converters, ndmin, unpack, dtype, encoding)\u001B[0m\n\u001B[1;32m    973\u001B[0m     fname \u001B[38;5;241m=\u001B[39m os\u001B[38;5;241m.\u001B[39mfspath(fname)\n\u001B[1;32m    974\u001B[0m \u001B[38;5;28;01mif\u001B[39;00m \u001B[38;5;28misinstance\u001B[39m(fname, \u001B[38;5;28mstr\u001B[39m):\n\u001B[0;32m--> 975\u001B[0m     fh \u001B[38;5;241m=\u001B[39m \u001B[43mnp\u001B[49m\u001B[38;5;241;43m.\u001B[39;49m\u001B[43mlib\u001B[49m\u001B[38;5;241;43m.\u001B[39;49m\u001B[43m_datasource\u001B[49m\u001B[38;5;241;43m.\u001B[39;49m\u001B[43mopen\u001B[49m\u001B[43m(\u001B[49m\u001B[43mfname\u001B[49m\u001B[43m,\u001B[49m\u001B[43m \u001B[49m\u001B[38;5;124;43m'\u001B[39;49m\u001B[38;5;124;43mrt\u001B[39;49m\u001B[38;5;124;43m'\u001B[39;49m\u001B[43m,\u001B[49m\u001B[43m \u001B[49m\u001B[43mencoding\u001B[49m\u001B[38;5;241;43m=\u001B[39;49m\u001B[43mencoding\u001B[49m\u001B[43m)\u001B[49m\n\u001B[1;32m    976\u001B[0m     \u001B[38;5;28;01mif\u001B[39;00m encoding \u001B[38;5;129;01mis\u001B[39;00m \u001B[38;5;28;01mNone\u001B[39;00m:\n\u001B[1;32m    977\u001B[0m         encoding \u001B[38;5;241m=\u001B[39m \u001B[38;5;28mgetattr\u001B[39m(fh, \u001B[38;5;124m'\u001B[39m\u001B[38;5;124mencoding\u001B[39m\u001B[38;5;124m'\u001B[39m, \u001B[38;5;124m'\u001B[39m\u001B[38;5;124mlatin1\u001B[39m\u001B[38;5;124m'\u001B[39m)\n",
      "File \u001B[0;32m~/miniconda3/envs/westpa-lpath/lib/python3.10/site-packages/numpy/lib/_datasource.py:193\u001B[0m, in \u001B[0;36mopen\u001B[0;34m(path, mode, destpath, encoding, newline)\u001B[0m\n\u001B[1;32m    156\u001B[0m \u001B[38;5;250m\u001B[39m\u001B[38;5;124;03m\"\"\"\u001B[39;00m\n\u001B[1;32m    157\u001B[0m \u001B[38;5;124;03mOpen `path` with `mode` and return the file object.\u001B[39;00m\n\u001B[1;32m    158\u001B[0m \n\u001B[0;32m   (...)\u001B[0m\n\u001B[1;32m    189\u001B[0m \n\u001B[1;32m    190\u001B[0m \u001B[38;5;124;03m\"\"\"\u001B[39;00m\n\u001B[1;32m    192\u001B[0m ds \u001B[38;5;241m=\u001B[39m DataSource(destpath)\n\u001B[0;32m--> 193\u001B[0m \u001B[38;5;28;01mreturn\u001B[39;00m \u001B[43mds\u001B[49m\u001B[38;5;241;43m.\u001B[39;49m\u001B[43mopen\u001B[49m\u001B[43m(\u001B[49m\u001B[43mpath\u001B[49m\u001B[43m,\u001B[49m\u001B[43m \u001B[49m\u001B[43mmode\u001B[49m\u001B[43m,\u001B[49m\u001B[43m \u001B[49m\u001B[43mencoding\u001B[49m\u001B[38;5;241;43m=\u001B[39;49m\u001B[43mencoding\u001B[49m\u001B[43m,\u001B[49m\u001B[43m \u001B[49m\u001B[43mnewline\u001B[49m\u001B[38;5;241;43m=\u001B[39;49m\u001B[43mnewline\u001B[49m\u001B[43m)\u001B[49m\n",
      "File \u001B[0;32m~/miniconda3/envs/westpa-lpath/lib/python3.10/site-packages/numpy/lib/_datasource.py:533\u001B[0m, in \u001B[0;36mDataSource.open\u001B[0;34m(self, path, mode, encoding, newline)\u001B[0m\n\u001B[1;32m    530\u001B[0m     \u001B[38;5;28;01mreturn\u001B[39;00m _file_openers[ext](found, mode\u001B[38;5;241m=\u001B[39mmode,\n\u001B[1;32m    531\u001B[0m                               encoding\u001B[38;5;241m=\u001B[39mencoding, newline\u001B[38;5;241m=\u001B[39mnewline)\n\u001B[1;32m    532\u001B[0m \u001B[38;5;28;01melse\u001B[39;00m:\n\u001B[0;32m--> 533\u001B[0m     \u001B[38;5;28;01mraise\u001B[39;00m \u001B[38;5;167;01mFileNotFoundError\u001B[39;00m(\u001B[38;5;124mf\u001B[39m\u001B[38;5;124m\"\u001B[39m\u001B[38;5;132;01m{\u001B[39;00mpath\u001B[38;5;132;01m}\u001B[39;00m\u001B[38;5;124m not found.\u001B[39m\u001B[38;5;124m\"\u001B[39m)\n",
      "\u001B[0;31mFileNotFoundError\u001B[0m: succ_traj/output.pickle not found."
     ]
    }
   ],
   "source": [
    "# Run discretize with the parameters defined in the cell above.\n",
    "match.main(pattern_args)"
   ]
  },
  {
   "cell_type": "code",
   "execution_count": null,
   "outputs": [],
   "source": [],
   "metadata": {
    "collapsed": false
   },
   "id": "525a9f614e9d03a4"
  },
  {
   "cell_type": "markdown",
   "source": [
    "## Run All"
   ],
   "metadata": {
    "collapsed": false
   },
   "id": "f379d3801c427ce8"
  },
  {
   "cell_type": "code",
   "execution_count": 25,
   "outputs": [],
   "source": [
    "# For calling all steps directly. Note all parameters are specified manually here.\n",
    "import argparse\n",
    "from lpath.lpath import main\n",
    "\n",
    "all_args = argparse.Namespace(\n",
    "    # Common Parameters\n",
    "    out_dir=\"succ_traj\",  # Name of directory to output the trajectories.\n",
    "    debug=False,  # Debug mode\n",
    "    west_name='west.h5',  # Name of input HDF5 file (e.g., west.h5)\n",
    "    assign_name='ANALYSIS/TEST/assign.h5',  # Name of output assign.h5 file\n",
    "    rcfile='west.cfg',  # west.cfg file\n",
    "    we=True,  # Analyzing a WE simulation.\n",
    "\n",
    "    # Discretize Parameters\n",
    "    input_name='dihedral.npy',  # Input data for state assignment. Something like 'dihedral.npy'.\n",
    "    extract_input='discretized.npy',  # Output file name for the state assignment.\n",
    "    assign_func='assign_func',  # Assign function that dictates how to assign states\n",
    "    assign_args=argparse.Namespace(  # These are arguments for w_assign\n",
    "        verbosity='verbose',  # Verbose or debug\n",
    "        rcfile='west.cfg',  # west.cfg\n",
    "        max_queue_length=None,\n",
    "        we_h5filename='west.h5',  # west.h5 path\n",
    "        construct_dataset=None,  # If you need some custom auxiliary dataset\n",
    "        dsspecs=None,\n",
    "        output='assign.h5',  # Output file\n",
    "        subsample=None,\n",
    "        config_from_file=True,  # Read config from rcfile\n",
    "        scheme='TEST',  # Scheme name\n",
    "    ),\n",
    "\n",
    "    # Extract Parameters\n",
    "    # Note west_name and assign_name are repeated from above and removed\n",
    "    source_state_num=0,  # Index of the source state as defined in assign.h5.\n",
    "    target_state_num=1,  # Index of the target state as defined in assign.h5.\n",
    "    first_iter=1,  # First iteration to analyze. Inclusive\n",
    "    last_iter=200,  # Last iteration to analyze. Inclusive. 0 implies it will analyze all labeled iterations.\n",
    "    trace_basis=True,  # Option to analyze each successful trajectory up till its basis state.\n",
    "    out_traj=False,  # Option to output trajectory files into `out_dir`. Will take much longer.\n",
    "    out_traj_ext=\".nc\",  # Extension of the segment files. Defaults to `seg{out_traj_ext}`.\n",
    "    out_state_ext=\".ncrst\",  # Extension of the restart files. Defaults to `seg{out_state_ext}`.\n",
    "    out_top=\"system.prmtop\",  # Name of the parameter file. Name relative to `$WEST_SIM_ROOT/common_files`.\n",
    "    hdf5=False,  # Enable if trajectories are saved with the HDF5 Framework in WESTPA.\n",
    "    rewrite_weights=False,  # Option to zero out the weights of all segments that are not a successful trajectory.\n",
    "    pcoord=True,  # Option to output the pcoord into the `output.pickle`.\n",
    "    auxdata=['phi', 'psi'],  # Additional auxiliary data to save into `output.pickle`.\n",
    "    use_ray=False,  # Enable Ray.\n",
    "    threads=0,  # How many Ray threads/actors to use. Defaults to 0, which wil use all auto-detected resources.\n",
    "    extract_output=\"succ_traj/pathways.pickle\",  # Name of the pickle file to be outputted.\n",
    "    exclude_short=0,  # Exclude trajectories shorter than provided value during matching. 0 excludes none.\n",
    "\n",
    "\n",
    "    # Match Parameters\n",
    "    # Note west_name, assign_name and out_dir are repeated from above and removed\n",
    "    match_output='succ_traj/pathways.pickle',  # Output file name of the new reassigned pathways from `lpath.match`\n",
    "    reassign_method='reassign_identity',  # Reassign method. Could be a module to be loaded\n",
    "    match_metric='longest_common_subsequence',  # Use the longest common subsequence metric.\n",
    "    match_vanilla=False, # Whether to use the metric with a correction term\n",
    "    dmatrix_remake=True,  # Enable to remake the distance matrix. If false, will proceed to load `dmatrix_save`.\n",
    "    dmatrix_save='distmap.npy',  # If dmatrix_remake is False, load this file instead. Assumed located in {out_dir}.\n",
    "    dmatrix_parallel=-1,  # Number of jobs to submit for distance matrix calculation. Set to -1 to use everything.\n",
    "    dendrogram_threshold=0.5,  # Threshold for the Dendrogram\n",
    "    dendrogram_show=True,  # Show the Dendrogram using plt.show()\n",
    "    clusters=None,  # Cluster index to output... otherwise None --> All\n",
    "    cl_output='succ_traj/cluster_labels.npy',  # Output path for cluster labels\n",
    "    export_h5=True,  # Export H5 files\n",
    "    file_pattern='west_succ_c{}.h5',  # Pattern to name cluster files\n",
    ")"
   ],
   "metadata": {
    "collapsed": false,
    "ExecuteTime": {
     "end_time": "2023-08-29T16:39:41.452595Z",
     "start_time": "2023-08-29T16:39:41.449445Z"
    }
   },
   "id": "89c5ccfa55147c6f"
  },
  {
   "cell_type": "code",
   "execution_count": 26,
   "outputs": [
    {
     "ename": "FileNotFoundError",
     "evalue": "[Errno 2] Unable to synchronously open file (unable to open file: name = 'west.h5', errno = 2, error message = 'No such file or directory', flags = 1, o_flags = 2)",
     "output_type": "error",
     "traceback": [
      "\u001B[0;31m---------------------------------------------------------------------------\u001B[0m",
      "\u001B[0;31mFileNotFoundError\u001B[0m                         Traceback (most recent call last)",
      "Cell \u001B[0;32mIn[26], line 1\u001B[0m\n\u001B[0;32m----> 1\u001B[0m \u001B[43mlpath\u001B[49m\u001B[38;5;241;43m.\u001B[39;49m\u001B[43mmain\u001B[49m\u001B[43m(\u001B[49m\u001B[43mall_args\u001B[49m\u001B[43m)\u001B[49m\n",
      "File \u001B[0;32m~/Documents/Important/Pitt/git/lpath/lpath/lpath.py:24\u001B[0m, in \u001B[0;36mmain\u001B[0;34m(arguments)\u001B[0m\n\u001B[1;32m     13\u001B[0m \u001B[38;5;250m\u001B[39m\u001B[38;5;124;03m\"\"\"\u001B[39;00m\n\u001B[1;32m     14\u001B[0m \u001B[38;5;124;03mMain function to run it all!\u001B[39;00m\n\u001B[1;32m     15\u001B[0m \n\u001B[0;32m   (...)\u001B[0m\n\u001B[1;32m     20\u001B[0m \n\u001B[1;32m     21\u001B[0m \u001B[38;5;124;03m\"\"\"\u001B[39;00m\n\u001B[1;32m     22\u001B[0m \u001B[38;5;28;01mfrom\u001B[39;00m \u001B[38;5;21;01mlpath\u001B[39;00m \u001B[38;5;28;01mimport\u001B[39;00m discretize, extract, match, plot\n\u001B[0;32m---> 24\u001B[0m \u001B[43mdiscretize\u001B[49m\u001B[38;5;241;43m.\u001B[39;49m\u001B[43mmain\u001B[49m\u001B[43m(\u001B[49m\u001B[43marguments\u001B[49m\u001B[43m)\u001B[49m\n\u001B[1;32m     25\u001B[0m extract\u001B[38;5;241m.\u001B[39mmain(arguments)\n\u001B[1;32m     26\u001B[0m \u001B[38;5;28;01mmatch\u001B[39;00m\u001B[38;5;241m.\u001B[39mmain(arguments)\n",
      "File \u001B[0;32m~/Documents/Important/Pitt/git/lpath/lpath/discretize.py:88\u001B[0m, in \u001B[0;36mmain\u001B[0;34m(arguments)\u001B[0m\n\u001B[1;32m     85\u001B[0m tool\u001B[38;5;241m.\u001B[39mwm_env\u001B[38;5;241m.\u001B[39mprocess_wm_args(arguments\u001B[38;5;241m.\u001B[39massign_args)\n\u001B[1;32m     86\u001B[0m tool\u001B[38;5;241m.\u001B[39mwork_manager \u001B[38;5;241m=\u001B[39m tool\u001B[38;5;241m.\u001B[39mwm_env\u001B[38;5;241m.\u001B[39mmake_work_manager()\n\u001B[0;32m---> 88\u001B[0m \u001B[43mtool\u001B[49m\u001B[38;5;241;43m.\u001B[39;49m\u001B[43mprocess_all_args\u001B[49m\u001B[43m(\u001B[49m\u001B[43marguments\u001B[49m\u001B[38;5;241;43m.\u001B[39;49m\u001B[43massign_args\u001B[49m\u001B[43m)\u001B[49m\n\u001B[1;32m     89\u001B[0m \u001B[38;5;28;01mwith\u001B[39;00m tool\u001B[38;5;241m.\u001B[39mwork_manager:\n\u001B[1;32m     90\u001B[0m     \u001B[38;5;28;01mif\u001B[39;00m tool\u001B[38;5;241m.\u001B[39mwork_manager\u001B[38;5;241m.\u001B[39mis_master:\n",
      "File \u001B[0;32m~/Documents/Important/Pitt/git/westpa-arm/src/westpa/tools/core.py:66\u001B[0m, in \u001B[0;36mWESTToolComponent.process_all_args\u001B[0;34m(self, args)\u001B[0m\n\u001B[1;32m     64\u001B[0m     \u001B[38;5;28;01mpass\u001B[39;00m\n\u001B[1;32m     65\u001B[0m \u001B[38;5;28;01melse\u001B[39;00m:\n\u001B[0;32m---> 66\u001B[0m     \u001B[43mfn\u001B[49m\u001B[43m(\u001B[49m\u001B[38;5;28;43mself\u001B[39;49m\u001B[43m,\u001B[49m\u001B[43m \u001B[49m\u001B[43margs\u001B[49m\u001B[43m)\u001B[49m\n",
      "File \u001B[0;32m~/Documents/Important/Pitt/git/westpa-arm/src/westpa/cli/tools/w_assign.py:283\u001B[0m, in \u001B[0;36mWAssign.process_args\u001B[0;34m(self, args)\u001B[0m\n\u001B[1;32m    280\u001B[0m \u001B[38;5;28mself\u001B[39m\u001B[38;5;241m.\u001B[39mdata_reader\u001B[38;5;241m.\u001B[39mprocess_args(args)\n\u001B[1;32m    281\u001B[0m \u001B[38;5;66;03m# Necessary to open the file to get the current iteration\u001B[39;00m\n\u001B[1;32m    282\u001B[0m \u001B[38;5;66;03m# if we want to use the mapper in the file\u001B[39;00m\n\u001B[0;32m--> 283\u001B[0m \u001B[38;5;28;43mself\u001B[39;49m\u001B[38;5;241;43m.\u001B[39;49m\u001B[43mdata_reader\u001B[49m\u001B[38;5;241;43m.\u001B[39;49m\u001B[43mopen\u001B[49m\u001B[43m(\u001B[49m\u001B[43mmode\u001B[49m\u001B[38;5;241;43m=\u001B[39;49m\u001B[38;5;124;43m'\u001B[39;49m\u001B[38;5;124;43mr+\u001B[39;49m\u001B[38;5;124;43m'\u001B[39;49m\u001B[43m)\u001B[49m\n\u001B[1;32m    284\u001B[0m \u001B[38;5;28mself\u001B[39m\u001B[38;5;241m.\u001B[39mn_iter \u001B[38;5;241m=\u001B[39m \u001B[38;5;28mself\u001B[39m\u001B[38;5;241m.\u001B[39mdata_reader\u001B[38;5;241m.\u001B[39mcurrent_iteration\n\u001B[1;32m    285\u001B[0m \u001B[38;5;66;03m# If we decide to use this option for iteration selection:\u001B[39;00m\n\u001B[1;32m    286\u001B[0m \u001B[38;5;66;03m# getattr(args,'bins_from_h5file',None) or self.data_reader.current_iteration\u001B[39;00m\n",
      "File \u001B[0;32m~/Documents/Important/Pitt/git/westpa-arm/src/westpa/tools/data_reader.py:55\u001B[0m, in \u001B[0;36mWESTDataReader.open\u001B[0;34m(self, mode)\u001B[0m\n\u001B[1;32m     54\u001B[0m \u001B[38;5;28;01mdef\u001B[39;00m \u001B[38;5;21mopen\u001B[39m(\u001B[38;5;28mself\u001B[39m, mode\u001B[38;5;241m=\u001B[39m\u001B[38;5;124m'\u001B[39m\u001B[38;5;124mr\u001B[39m\u001B[38;5;124m'\u001B[39m):\n\u001B[0;32m---> 55\u001B[0m     \u001B[38;5;28;43mself\u001B[39;49m\u001B[38;5;241;43m.\u001B[39;49m\u001B[43mdata_manager\u001B[49m\u001B[38;5;241;43m.\u001B[39;49m\u001B[43mopen_backing\u001B[49m\u001B[43m(\u001B[49m\u001B[43mmode\u001B[49m\u001B[43m)\u001B[49m\n",
      "File \u001B[0;32m~/Documents/Important/Pitt/git/westpa-arm/src/westpa/core/data_manager.py:352\u001B[0m, in \u001B[0;36mWESTDataManager.open_backing\u001B[0;34m(self, mode)\u001B[0m\n\u001B[1;32m    350\u001B[0m \u001B[38;5;28;01mif\u001B[39;00m \u001B[38;5;129;01mnot\u001B[39;00m \u001B[38;5;28mself\u001B[39m\u001B[38;5;241m.\u001B[39mwe_h5file:\n\u001B[1;32m    351\u001B[0m     log\u001B[38;5;241m.\u001B[39mdebug(\u001B[38;5;124m'\u001B[39m\u001B[38;5;124mattempting to open \u001B[39m\u001B[38;5;132;01m{}\u001B[39;00m\u001B[38;5;124m with mode \u001B[39m\u001B[38;5;132;01m{}\u001B[39;00m\u001B[38;5;124m'\u001B[39m\u001B[38;5;241m.\u001B[39mformat(\u001B[38;5;28mself\u001B[39m\u001B[38;5;241m.\u001B[39mwe_h5filename, mode))\n\u001B[0;32m--> 352\u001B[0m     \u001B[38;5;28mself\u001B[39m\u001B[38;5;241m.\u001B[39mwe_h5file \u001B[38;5;241m=\u001B[39m \u001B[43mh5io\u001B[49m\u001B[38;5;241;43m.\u001B[39;49m\u001B[43mWESTPAH5File\u001B[49m\u001B[43m(\u001B[49m\u001B[38;5;28;43mself\u001B[39;49m\u001B[38;5;241;43m.\u001B[39;49m\u001B[43mwe_h5filename\u001B[49m\u001B[43m,\u001B[49m\u001B[43m \u001B[49m\u001B[43mmode\u001B[49m\u001B[43m,\u001B[49m\u001B[43m \u001B[49m\u001B[43mdriver\u001B[49m\u001B[38;5;241;43m=\u001B[39;49m\u001B[38;5;28;43mself\u001B[39;49m\u001B[38;5;241;43m.\u001B[39;49m\u001B[43mwe_h5file_driver\u001B[49m\u001B[43m)\u001B[49m\n\u001B[1;32m    354\u001B[0m     h5file_attrs \u001B[38;5;241m=\u001B[39m \u001B[38;5;28mself\u001B[39m\u001B[38;5;241m.\u001B[39mwe_h5file[\u001B[38;5;124m'\u001B[39m\u001B[38;5;124m/\u001B[39m\u001B[38;5;124m'\u001B[39m]\u001B[38;5;241m.\u001B[39mattrs\n\u001B[1;32m    355\u001B[0m     h5file_attr_keys \u001B[38;5;241m=\u001B[39m \u001B[38;5;28mlist\u001B[39m(h5file_attrs\u001B[38;5;241m.\u001B[39mkeys())\n",
      "File \u001B[0;32m~/Documents/Important/Pitt/git/westpa-arm/src/westpa/core/h5io.py:383\u001B[0m, in \u001B[0;36mWESTPAH5File.__init__\u001B[0;34m(self, *args, **kwargs)\u001B[0m\n\u001B[1;32m    380\u001B[0m arg_creating_program \u001B[38;5;241m=\u001B[39m kwargs\u001B[38;5;241m.\u001B[39mpop(\u001B[38;5;124m'\u001B[39m\u001B[38;5;124mcreating_program\u001B[39m\u001B[38;5;124m'\u001B[39m, \u001B[38;5;28;01mNone\u001B[39;00m)\n\u001B[1;32m    382\u001B[0m \u001B[38;5;66;03m# Initialize h5py file\u001B[39;00m\n\u001B[0;32m--> 383\u001B[0m \u001B[38;5;28;43msuper\u001B[39;49m\u001B[43m(\u001B[49m\u001B[43m)\u001B[49m\u001B[38;5;241;43m.\u001B[39;49m\u001B[38;5;21;43m__init__\u001B[39;49m\u001B[43m(\u001B[49m\u001B[38;5;241;43m*\u001B[39;49m\u001B[43margs\u001B[49m\u001B[43m,\u001B[49m\u001B[43m \u001B[49m\u001B[38;5;241;43m*\u001B[39;49m\u001B[38;5;241;43m*\u001B[39;49m\u001B[43mkwargs\u001B[49m\u001B[43m)\u001B[49m\n\u001B[1;32m    385\u001B[0m \u001B[38;5;66;03m# Try to get iteration precision and I/O class version\u001B[39;00m\n\u001B[1;32m    386\u001B[0m h5file_iter_prec \u001B[38;5;241m=\u001B[39m _get_one_attr(\u001B[38;5;28mself\u001B[39m, [\u001B[38;5;124m'\u001B[39m\u001B[38;5;124mwestpa_iter_prec\u001B[39m\u001B[38;5;124m'\u001B[39m, \u001B[38;5;124m'\u001B[39m\u001B[38;5;124mwest_iter_prec\u001B[39m\u001B[38;5;124m'\u001B[39m, \u001B[38;5;124m'\u001B[39m\u001B[38;5;124mwemd_iter_prec\u001B[39m\u001B[38;5;124m'\u001B[39m], \u001B[38;5;28;01mNone\u001B[39;00m)\n",
      "File \u001B[0;32m~/miniconda3/envs/westpa-lpath/lib/python3.10/site-packages/h5py/_hl/files.py:567\u001B[0m, in \u001B[0;36mFile.__init__\u001B[0;34m(self, name, mode, driver, libver, userblock_size, swmr, rdcc_nslots, rdcc_nbytes, rdcc_w0, track_order, fs_strategy, fs_persist, fs_threshold, fs_page_size, page_buf_size, min_meta_keep, min_raw_keep, locking, alignment_threshold, alignment_interval, meta_block_size, **kwds)\u001B[0m\n\u001B[1;32m    558\u001B[0m     fapl \u001B[38;5;241m=\u001B[39m make_fapl(driver, libver, rdcc_nslots, rdcc_nbytes, rdcc_w0,\n\u001B[1;32m    559\u001B[0m                      locking, page_buf_size, min_meta_keep, min_raw_keep,\n\u001B[1;32m    560\u001B[0m                      alignment_threshold\u001B[38;5;241m=\u001B[39malignment_threshold,\n\u001B[1;32m    561\u001B[0m                      alignment_interval\u001B[38;5;241m=\u001B[39malignment_interval,\n\u001B[1;32m    562\u001B[0m                      meta_block_size\u001B[38;5;241m=\u001B[39mmeta_block_size,\n\u001B[1;32m    563\u001B[0m                      \u001B[38;5;241m*\u001B[39m\u001B[38;5;241m*\u001B[39mkwds)\n\u001B[1;32m    564\u001B[0m     fcpl \u001B[38;5;241m=\u001B[39m make_fcpl(track_order\u001B[38;5;241m=\u001B[39mtrack_order, fs_strategy\u001B[38;5;241m=\u001B[39mfs_strategy,\n\u001B[1;32m    565\u001B[0m                      fs_persist\u001B[38;5;241m=\u001B[39mfs_persist, fs_threshold\u001B[38;5;241m=\u001B[39mfs_threshold,\n\u001B[1;32m    566\u001B[0m                      fs_page_size\u001B[38;5;241m=\u001B[39mfs_page_size)\n\u001B[0;32m--> 567\u001B[0m     fid \u001B[38;5;241m=\u001B[39m \u001B[43mmake_fid\u001B[49m\u001B[43m(\u001B[49m\u001B[43mname\u001B[49m\u001B[43m,\u001B[49m\u001B[43m \u001B[49m\u001B[43mmode\u001B[49m\u001B[43m,\u001B[49m\u001B[43m \u001B[49m\u001B[43muserblock_size\u001B[49m\u001B[43m,\u001B[49m\u001B[43m \u001B[49m\u001B[43mfapl\u001B[49m\u001B[43m,\u001B[49m\u001B[43m \u001B[49m\u001B[43mfcpl\u001B[49m\u001B[43m,\u001B[49m\u001B[43m \u001B[49m\u001B[43mswmr\u001B[49m\u001B[38;5;241;43m=\u001B[39;49m\u001B[43mswmr\u001B[49m\u001B[43m)\u001B[49m\n\u001B[1;32m    569\u001B[0m \u001B[38;5;28;01mif\u001B[39;00m \u001B[38;5;28misinstance\u001B[39m(libver, \u001B[38;5;28mtuple\u001B[39m):\n\u001B[1;32m    570\u001B[0m     \u001B[38;5;28mself\u001B[39m\u001B[38;5;241m.\u001B[39m_libver \u001B[38;5;241m=\u001B[39m libver\n",
      "File \u001B[0;32m~/miniconda3/envs/westpa-lpath/lib/python3.10/site-packages/h5py/_hl/files.py:233\u001B[0m, in \u001B[0;36mmake_fid\u001B[0;34m(name, mode, userblock_size, fapl, fcpl, swmr)\u001B[0m\n\u001B[1;32m    231\u001B[0m     fid \u001B[38;5;241m=\u001B[39m h5f\u001B[38;5;241m.\u001B[39mopen(name, flags, fapl\u001B[38;5;241m=\u001B[39mfapl)\n\u001B[1;32m    232\u001B[0m \u001B[38;5;28;01melif\u001B[39;00m mode \u001B[38;5;241m==\u001B[39m \u001B[38;5;124m'\u001B[39m\u001B[38;5;124mr+\u001B[39m\u001B[38;5;124m'\u001B[39m:\n\u001B[0;32m--> 233\u001B[0m     fid \u001B[38;5;241m=\u001B[39m \u001B[43mh5f\u001B[49m\u001B[38;5;241;43m.\u001B[39;49m\u001B[43mopen\u001B[49m\u001B[43m(\u001B[49m\u001B[43mname\u001B[49m\u001B[43m,\u001B[49m\u001B[43m \u001B[49m\u001B[43mh5f\u001B[49m\u001B[38;5;241;43m.\u001B[39;49m\u001B[43mACC_RDWR\u001B[49m\u001B[43m,\u001B[49m\u001B[43m \u001B[49m\u001B[43mfapl\u001B[49m\u001B[38;5;241;43m=\u001B[39;49m\u001B[43mfapl\u001B[49m\u001B[43m)\u001B[49m\n\u001B[1;32m    234\u001B[0m \u001B[38;5;28;01melif\u001B[39;00m mode \u001B[38;5;129;01min\u001B[39;00m [\u001B[38;5;124m'\u001B[39m\u001B[38;5;124mw-\u001B[39m\u001B[38;5;124m'\u001B[39m, \u001B[38;5;124m'\u001B[39m\u001B[38;5;124mx\u001B[39m\u001B[38;5;124m'\u001B[39m]:\n\u001B[1;32m    235\u001B[0m     fid \u001B[38;5;241m=\u001B[39m h5f\u001B[38;5;241m.\u001B[39mcreate(name, h5f\u001B[38;5;241m.\u001B[39mACC_EXCL, fapl\u001B[38;5;241m=\u001B[39mfapl, fcpl\u001B[38;5;241m=\u001B[39mfcpl)\n",
      "File \u001B[0;32mh5py/_objects.pyx:54\u001B[0m, in \u001B[0;36mh5py._objects.with_phil.wrapper\u001B[0;34m()\u001B[0m\n",
      "File \u001B[0;32mh5py/_objects.pyx:55\u001B[0m, in \u001B[0;36mh5py._objects.with_phil.wrapper\u001B[0;34m()\u001B[0m\n",
      "File \u001B[0;32mh5py/h5f.pyx:106\u001B[0m, in \u001B[0;36mh5py.h5f.open\u001B[0;34m()\u001B[0m\n",
      "\u001B[0;31mFileNotFoundError\u001B[0m: [Errno 2] Unable to synchronously open file (unable to open file: name = 'west.h5', errno = 2, error message = 'No such file or directory', flags = 1, o_flags = 2)"
     ]
    }
   ],
   "source": [
    "lpath.main(all_args)"
   ],
   "metadata": {
    "collapsed": false,
    "ExecuteTime": {
     "end_time": "2023-08-29T16:39:42.132512Z",
     "start_time": "2023-08-29T16:39:42.053805Z"
    }
   },
   "id": "1bf93a039f3d3d5b"
  },
  {
   "cell_type": "code",
   "execution_count": null,
   "outputs": [],
   "source": [],
   "metadata": {
    "collapsed": false
   },
   "id": "277057e33e48c556"
  }
 ],
 "metadata": {
  "kernelspec": {
   "display_name": "Python 3 (ipykernel)",
   "language": "python",
   "name": "python3"
  },
  "language_info": {
   "codemirror_mode": {
    "name": "ipython",
    "version": 3
   },
   "file_extension": ".py",
   "mimetype": "text/x-python",
   "name": "python",
   "nbconvert_exporter": "python",
   "pygments_lexer": "ipython3",
   "version": "3.10.10"
  }
 },
 "nbformat": 4,
 "nbformat_minor": 5
}
